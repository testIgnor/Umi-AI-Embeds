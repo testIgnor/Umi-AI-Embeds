{
 "cells": [
  {
   "cell_type": "markdown",
   "metadata": {},
   "source": [
    "# To search Danbooru tags by most tagged with franchise:\n",
    "https://danbooru.donmai.us/related_tag.json?query={$SEARCH_TERM}&category=character&is_deprecated=false&order=count\n",
    "\n",
    "[Reference](https://danbooru.donmai.us/wiki_pages/help:api)"
   ]
  },
  {
   "cell_type": "code",
   "execution_count": 1,
   "metadata": {},
   "outputs": [],
   "source": [
    "import json\n",
    "from urllib.request import urlopen\n",
    "from tqdm.auto import tqdm\n",
    "import time"
   ]
  },
  {
   "cell_type": "code",
   "execution_count": null,
   "metadata": {},
   "outputs": [
    {
     "name": "stdout",
     "output_type": "stream",
     "text": [
      "32 32\n"
     ]
    }
   ],
   "source": [
    "franchises = [\n",
    "    \"ace_attorney\",\n",
    "    \"azur_lane\",\n",
    "    \"blue_archive\",\n",
    "    \"dragon_quest\",\n",
    "    \"neon_genesis_evangelion\",\n",
    "    \"fate_(series)\",\n",
    "    \"fire_emblem\",\n",
    "    \"genshin_impact\",\n",
    "    \"granblue_fantasy\",\n",
    "    \"hololive\",\n",
    "    \"honkai_(series)\",\n",
    "    \"kantai_collection\",\n",
    "    \"league_of_legends\",\n",
    "    \"naruto_(series)\",\n",
    "    \"nier_(series)\",\n",
    "    \"overwatch\",\n",
    "    \"persona\",\n",
    "    \"resident_evil\",\n",
    "    \"vocaloid\",\n",
    "    \"xenoblade_chronicles_(series)\",\n",
    "    \"final_fantasy\",\n",
    "    \"mario_(series)\",\n",
    "    \"the_legend_of_zelda\", \n",
    "    \"street_fighter\",\n",
    "    \"tekken\",\n",
    "    \"dead_or_alive\",\n",
    "    \"darkstalkers\",\n",
    "    \"guilty_gear\",\n",
    "    \"soulcalibur\",\n",
    "    \"dragon_ball\"\n",
    "]\n",
    "\n",
    "franchise_names = [\n",
    "    \"Ace Attorney\",\n",
    "    \"Azur Lane\",\n",
    "    \"Blue Archive\",\n",
    "    \"Dragon Quest\",\n",
    "    \"Evangelion\",\n",
    "    \"Fate\",\n",
    "    \"Fire Emblem\",\n",
    "    \"Genshin\",\n",
    "    \"Granblue\",\n",
    "    \"Hololive\",\n",
    "    \"Honkai\",\n",
    "    \"Kantai Collection\",\n",
    "    \"LoL\",\n",
    "    \"Naruto\",\n",
    "    \"Nier\",\n",
    "    \"Overwatch\",\n",
    "    \"Persona\",\n",
    "    \"Resident Evil\",\n",
    "    \"Vocaloid\",\n",
    "    \"Xenoblade\",\n",
    "    \"Final Fantasy\",\n",
    "    \"Nintendo\",\n",
    "    \"Zelda\",\n",
    "    \"Street Fighter\",\n",
    "    \"Tekken\",\n",
    "    \"Dead or Alive\",\n",
    "    \"Darkstalkers\",\n",
    "    \"Guilty Gear\",\n",
    "    \"Soulcalibur\",\n",
    "    \"Dragonball\"\n",
    "]\n",
    "\n",
    "print(len(franchises), len(franchise_names))"
   ]
  },
  {
   "cell_type": "code",
   "execution_count": null,
   "metadata": {},
   "outputs": [],
   "source": [
    "limit = 50\n",
    "boy_overlap_threshold = 0.35\n",
    "girl_overlap_threshold = 0.45\n",
    "fran_overlap_threshold = 0.8"
   ]
  },
  {
   "cell_type": "code",
   "execution_count": 4,
   "metadata": {},
   "outputs": [],
   "source": [
    "def myurlopen(url, max_wait=300):\n",
    "    i = 2\n",
    "    while True:       \n",
    "        try:\n",
    "            r = urlopen(url)\n",
    "            return r\n",
    "        except:\n",
    "            sleep_time = 2**i / 1000\n",
    "            if sleep_time > max_wait:\n",
    "                print('ABORT!')\n",
    "                raise TimeoutError(f'Timed out with max wait time of {max_wait} s')\n",
    "            time.sleep(sleep_time)\n",
    "            i += 1\n",
    "            continue\n",
    "\n",
    "def reject_if_above(url, target_tag, overlap_threshold):\n",
    "    try:\n",
    "        r = myurlopen(url)\n",
    "    except:\n",
    "        return 1\n",
    "    rt = json.loads(r.read())['related_tags']\n",
    "    # go through all tags\n",
    "    for t in rt:\n",
    "\n",
    "        # see if tag exists\n",
    "        if t['tag']['name'] == target_tag:\n",
    "            \n",
    "            # high overlap? reject\n",
    "            #print(t['overlap_coefficient'])\n",
    "            if t['overlap_coefficient'] > overlap_threshold:\n",
    "                #print('Should Reject')\n",
    "                return 1\n",
    "            # otherwise accept\n",
    "            else:\n",
    "                #print('Should Accept')\n",
    "                return 0\n",
    "    # tag doesn't exist, so accept\n",
    "    #print('Should Accept')\n",
    "    return 0\n",
    "\n",
    "def reject_if_below(url, target_tag, overlap_threshold):\n",
    "    try:\n",
    "        r = myurlopen(url)\n",
    "    except:\n",
    "        return 1\n",
    "    rt = json.loads(r.read())['related_tags']\n",
    "    \n",
    "    # go through all tags\n",
    "    for t in rt:\n",
    "\n",
    "        # see if tag exists\n",
    "        if t['tag']['name'] == target_tag:\n",
    "            \n",
    "            # high overlap? accept\n",
    "            #print(t['overlap_coefficient'])\n",
    "            if t['overlap_coefficient'] >= overlap_threshold:\n",
    "                #print('Should Accept')\n",
    "                return 0\n",
    "            # otherwise reject\n",
    "            else:\n",
    "                #print('Should Reject')\n",
    "                return 1\n",
    "    # tag doesn't exist, so reject\n",
    "    #print('Should Reject')\n",
    "    return 1\n",
    "\n",
    "def upcycle_character(character, qlimit=1000):\n",
    "    tags = []\n",
    "    tag_overlap = 0.25\n",
    "\n",
    "    url = f\"https://danbooru.donmai.us/related_tag.json?query={character}&category=general&is_deprecated=false&order=count&limit={qlimit}\"\n",
    "    response = myurlopen(url)\n",
    "    related_tags = json.loads(response.read())['related_tags']\n",
    "\n",
    "    for rtag in related_tags:\n",
    "        if rtag['overlap_coefficient'] <= tag_overlap:\n",
    "            continue\n",
    "        tag_dict = rtag['tag']\n",
    "        if tag_dict['post_count'] < 100:\n",
    "            continue\n",
    "        \n",
    "        if tag_dict['name'].endswith('eyes') or tag_dict['name'].endswith('hair') or ('skin' in tag_dict['name']):\n",
    "            tags.append( tag_dict['name'] ) \n",
    "\n",
    "    tags = set(tags)\n",
    "    processed = [ x.strip().replace('_', ' ').replace('(', '\\(').replace(')', '\\)') for x in tags]\n",
    "    tag_string = ', '.join(processed)\n",
    "    return tag_string"
   ]
  },
  {
   "cell_type": "code",
   "execution_count": 5,
   "metadata": {},
   "outputs": [
    {
     "name": "stdout",
     "output_type": "stream",
     "text": [
      "Working on Ace Attorney...\n"
     ]
    },
    {
     "data": {
      "application/vnd.jupyter.widget-view+json": {
       "model_id": "9b564f4085f0415fa88c61758560c4ab",
       "version_major": 2,
       "version_minor": 0
      },
      "text/plain": [
       "  0%|          | 0/275 [00:00<?, ?it/s]"
      ]
     },
     "metadata": {},
     "output_type": "display_data"
    },
    {
     "name": "stdout",
     "output_type": "stream",
     "text": [
      "Finished working on Ace Attorney.\n",
      "Working on Azur Lane...\n"
     ]
    },
    {
     "data": {
      "application/vnd.jupyter.widget-view+json": {
       "model_id": "839cc537037643e38e6e3525321ab3b6",
       "version_major": 2,
       "version_minor": 0
      },
      "text/plain": [
       "  0%|          | 0/275 [00:00<?, ?it/s]"
      ]
     },
     "metadata": {},
     "output_type": "display_data"
    },
    {
     "name": "stdout",
     "output_type": "stream",
     "text": [
      "Finished working on Azur Lane.\n",
      "Working on Blue Archive...\n"
     ]
    },
    {
     "data": {
      "application/vnd.jupyter.widget-view+json": {
       "model_id": "093460a723cf4cdd872e40f1828fdee0",
       "version_major": 2,
       "version_minor": 0
      },
      "text/plain": [
       "  0%|          | 0/275 [00:00<?, ?it/s]"
      ]
     },
     "metadata": {},
     "output_type": "display_data"
    },
    {
     "name": "stdout",
     "output_type": "stream",
     "text": [
      "Finished working on Blue Archive.\n",
      "Working on Disney...\n"
     ]
    },
    {
     "data": {
      "application/vnd.jupyter.widget-view+json": {
       "model_id": "b30f2243d4f84b8ab9cc1275d433b237",
       "version_major": 2,
       "version_minor": 0
      },
      "text/plain": [
       "  0%|          | 0/275 [00:00<?, ?it/s]"
      ]
     },
     "metadata": {},
     "output_type": "display_data"
    },
    {
     "name": "stdout",
     "output_type": "stream",
     "text": [
      "Finished working on Disney.\n",
      "Working on Dragon Quest...\n"
     ]
    },
    {
     "data": {
      "application/vnd.jupyter.widget-view+json": {
       "model_id": "4eadd217cc0e47afbc6c5fb4e72c56c6",
       "version_major": 2,
       "version_minor": 0
      },
      "text/plain": [
       "  0%|          | 0/275 [00:00<?, ?it/s]"
      ]
     },
     "metadata": {},
     "output_type": "display_data"
    },
    {
     "name": "stdout",
     "output_type": "stream",
     "text": [
      "Finished working on Dragon Quest.\n",
      "Working on Evangelion...\n"
     ]
    },
    {
     "data": {
      "application/vnd.jupyter.widget-view+json": {
       "model_id": "7685c38242ca49439975a61c1a913341",
       "version_major": 2,
       "version_minor": 0
      },
      "text/plain": [
       "  0%|          | 0/275 [00:00<?, ?it/s]"
      ]
     },
     "metadata": {},
     "output_type": "display_data"
    },
    {
     "name": "stdout",
     "output_type": "stream",
     "text": [
      "Finished working on Evangelion.\n",
      "Working on Fate...\n"
     ]
    },
    {
     "data": {
      "application/vnd.jupyter.widget-view+json": {
       "model_id": "f8532a6dc49f4342bbb9d52cfe14c3f5",
       "version_major": 2,
       "version_minor": 0
      },
      "text/plain": [
       "  0%|          | 0/275 [00:00<?, ?it/s]"
      ]
     },
     "metadata": {},
     "output_type": "display_data"
    },
    {
     "name": "stdout",
     "output_type": "stream",
     "text": [
      "Finished working on Fate.\n",
      "Working on Fire Emblem...\n"
     ]
    },
    {
     "data": {
      "application/vnd.jupyter.widget-view+json": {
       "model_id": "e3b92ce73919492c80bc902d828c77a3",
       "version_major": 2,
       "version_minor": 0
      },
      "text/plain": [
       "  0%|          | 0/275 [00:00<?, ?it/s]"
      ]
     },
     "metadata": {},
     "output_type": "display_data"
    },
    {
     "name": "stdout",
     "output_type": "stream",
     "text": [
      "Finished working on Fire Emblem.\n",
      "Working on Genshin...\n"
     ]
    },
    {
     "data": {
      "application/vnd.jupyter.widget-view+json": {
       "model_id": "0079b9f191974003b5cd175f16866596",
       "version_major": 2,
       "version_minor": 0
      },
      "text/plain": [
       "  0%|          | 0/275 [00:00<?, ?it/s]"
      ]
     },
     "metadata": {},
     "output_type": "display_data"
    },
    {
     "name": "stdout",
     "output_type": "stream",
     "text": [
      "Finished working on Genshin.\n",
      "Working on Granblue...\n"
     ]
    },
    {
     "data": {
      "application/vnd.jupyter.widget-view+json": {
       "model_id": "90e03bfb5e5d4558a9dab905fa078675",
       "version_major": 2,
       "version_minor": 0
      },
      "text/plain": [
       "  0%|          | 0/275 [00:00<?, ?it/s]"
      ]
     },
     "metadata": {},
     "output_type": "display_data"
    },
    {
     "name": "stdout",
     "output_type": "stream",
     "text": [
      "Finished working on Granblue.\n",
      "Working on Hololive...\n"
     ]
    },
    {
     "data": {
      "application/vnd.jupyter.widget-view+json": {
       "model_id": "fcb9c3c389c94ba09d0b9057140b43ae",
       "version_major": 2,
       "version_minor": 0
      },
      "text/plain": [
       "  0%|          | 0/275 [00:00<?, ?it/s]"
      ]
     },
     "metadata": {},
     "output_type": "display_data"
    },
    {
     "name": "stdout",
     "output_type": "stream",
     "text": [
      "Finished working on Hololive.\n",
      "Working on Honkai...\n"
     ]
    },
    {
     "data": {
      "application/vnd.jupyter.widget-view+json": {
       "model_id": "9321d3df190347708a7663fac062a5ff",
       "version_major": 2,
       "version_minor": 0
      },
      "text/plain": [
       "  0%|          | 0/275 [00:00<?, ?it/s]"
      ]
     },
     "metadata": {},
     "output_type": "display_data"
    },
    {
     "name": "stdout",
     "output_type": "stream",
     "text": [
      "Finished working on Honkai.\n",
      "Working on Kantai Collection...\n"
     ]
    },
    {
     "data": {
      "application/vnd.jupyter.widget-view+json": {
       "model_id": "1c2d7e37023e49b1a9c253fe05b858a8",
       "version_major": 2,
       "version_minor": 0
      },
      "text/plain": [
       "  0%|          | 0/275 [00:00<?, ?it/s]"
      ]
     },
     "metadata": {},
     "output_type": "display_data"
    },
    {
     "name": "stdout",
     "output_type": "stream",
     "text": [
      "Finished working on Kantai Collection.\n",
      "Working on LoL...\n"
     ]
    },
    {
     "data": {
      "application/vnd.jupyter.widget-view+json": {
       "model_id": "ff877647c23c4c3fa1c6245aac35a374",
       "version_major": 2,
       "version_minor": 0
      },
      "text/plain": [
       "  0%|          | 0/275 [00:00<?, ?it/s]"
      ]
     },
     "metadata": {},
     "output_type": "display_data"
    },
    {
     "name": "stdout",
     "output_type": "stream",
     "text": [
      "Finished working on LoL.\n",
      "Working on Naruto...\n"
     ]
    },
    {
     "data": {
      "application/vnd.jupyter.widget-view+json": {
       "model_id": "a822f8b8d49b42cc93c1d54b4ed40ce2",
       "version_major": 2,
       "version_minor": 0
      },
      "text/plain": [
       "  0%|          | 0/275 [00:00<?, ?it/s]"
      ]
     },
     "metadata": {},
     "output_type": "display_data"
    },
    {
     "name": "stdout",
     "output_type": "stream",
     "text": [
      "Finished working on Naruto.\n",
      "Working on Nier...\n"
     ]
    },
    {
     "data": {
      "application/vnd.jupyter.widget-view+json": {
       "model_id": "e554fe40b20f4c0980869aa192a293ae",
       "version_major": 2,
       "version_minor": 0
      },
      "text/plain": [
       "  0%|          | 0/275 [00:00<?, ?it/s]"
      ]
     },
     "metadata": {},
     "output_type": "display_data"
    },
    {
     "name": "stdout",
     "output_type": "stream",
     "text": [
      "Finished working on Nier.\n",
      "Working on Overwatch...\n"
     ]
    },
    {
     "data": {
      "application/vnd.jupyter.widget-view+json": {
       "model_id": "3d09dc9212f74eb08ee2f123717bc355",
       "version_major": 2,
       "version_minor": 0
      },
      "text/plain": [
       "  0%|          | 0/275 [00:00<?, ?it/s]"
      ]
     },
     "metadata": {},
     "output_type": "display_data"
    },
    {
     "name": "stdout",
     "output_type": "stream",
     "text": [
      "Finished working on Overwatch.\n",
      "Working on Persona...\n"
     ]
    },
    {
     "data": {
      "application/vnd.jupyter.widget-view+json": {
       "model_id": "1767959ad606415690220a97302e9f9f",
       "version_major": 2,
       "version_minor": 0
      },
      "text/plain": [
       "  0%|          | 0/275 [00:00<?, ?it/s]"
      ]
     },
     "metadata": {},
     "output_type": "display_data"
    },
    {
     "name": "stdout",
     "output_type": "stream",
     "text": [
      "Finished working on Persona.\n",
      "Working on Resident Evil...\n"
     ]
    },
    {
     "data": {
      "application/vnd.jupyter.widget-view+json": {
       "model_id": "2916bb3e549143cf96e6b86f4d514cfb",
       "version_major": 2,
       "version_minor": 0
      },
      "text/plain": [
       "  0%|          | 0/275 [00:00<?, ?it/s]"
      ]
     },
     "metadata": {},
     "output_type": "display_data"
    },
    {
     "name": "stdout",
     "output_type": "stream",
     "text": [
      "Finished working on Resident Evil.\n",
      "Working on Vocaloid...\n"
     ]
    },
    {
     "data": {
      "application/vnd.jupyter.widget-view+json": {
       "model_id": "c9da0fdd888841b69c73853784379ab6",
       "version_major": 2,
       "version_minor": 0
      },
      "text/plain": [
       "  0%|          | 0/275 [00:00<?, ?it/s]"
      ]
     },
     "metadata": {},
     "output_type": "display_data"
    },
    {
     "name": "stdout",
     "output_type": "stream",
     "text": [
      "Finished working on Vocaloid.\n",
      "Working on Xenoblade...\n"
     ]
    },
    {
     "data": {
      "application/vnd.jupyter.widget-view+json": {
       "model_id": "7926b8d5ea5042b09e72bebff6b68e53",
       "version_major": 2,
       "version_minor": 0
      },
      "text/plain": [
       "  0%|          | 0/275 [00:00<?, ?it/s]"
      ]
     },
     "metadata": {},
     "output_type": "display_data"
    },
    {
     "name": "stdout",
     "output_type": "stream",
     "text": [
      "Finished working on Xenoblade.\n",
      "Working on Final Fantasy...\n"
     ]
    },
    {
     "data": {
      "application/vnd.jupyter.widget-view+json": {
       "model_id": "289e75525a254760b997a0c290105e59",
       "version_major": 2,
       "version_minor": 0
      },
      "text/plain": [
       "  0%|          | 0/275 [00:00<?, ?it/s]"
      ]
     },
     "metadata": {},
     "output_type": "display_data"
    },
    {
     "name": "stdout",
     "output_type": "stream",
     "text": [
      "Finished working on Final Fantasy.\n",
      "Working on Nintendo...\n"
     ]
    },
    {
     "data": {
      "application/vnd.jupyter.widget-view+json": {
       "model_id": "f592381ab8604fc0b5d15a682355d34b",
       "version_major": 2,
       "version_minor": 0
      },
      "text/plain": [
       "  0%|          | 0/275 [00:00<?, ?it/s]"
      ]
     },
     "metadata": {},
     "output_type": "display_data"
    },
    {
     "name": "stdout",
     "output_type": "stream",
     "text": [
      "Finished working on Nintendo.\n",
      "Working on Zelda...\n"
     ]
    },
    {
     "data": {
      "application/vnd.jupyter.widget-view+json": {
       "model_id": "0ad481aa9b4b4fae954a8d1379ef7f81",
       "version_major": 2,
       "version_minor": 0
      },
      "text/plain": [
       "  0%|          | 0/275 [00:00<?, ?it/s]"
      ]
     },
     "metadata": {},
     "output_type": "display_data"
    },
    {
     "name": "stdout",
     "output_type": "stream",
     "text": [
      "Finished working on Zelda.\n",
      "Working on Street Fighter...\n"
     ]
    },
    {
     "data": {
      "application/vnd.jupyter.widget-view+json": {
       "model_id": "b38a889cae304d6fb5728f29cc81e920",
       "version_major": 2,
       "version_minor": 0
      },
      "text/plain": [
       "  0%|          | 0/275 [00:00<?, ?it/s]"
      ]
     },
     "metadata": {},
     "output_type": "display_data"
    },
    {
     "name": "stdout",
     "output_type": "stream",
     "text": [
      "Finished working on Street Fighter.\n",
      "Working on Tekken...\n"
     ]
    },
    {
     "data": {
      "application/vnd.jupyter.widget-view+json": {
       "model_id": "434d3eb09d244fa5ae06179ba3516efd",
       "version_major": 2,
       "version_minor": 0
      },
      "text/plain": [
       "  0%|          | 0/275 [00:00<?, ?it/s]"
      ]
     },
     "metadata": {},
     "output_type": "display_data"
    },
    {
     "name": "stdout",
     "output_type": "stream",
     "text": [
      "Finished working on Tekken.\n",
      "Working on Dead or Alive...\n"
     ]
    },
    {
     "data": {
      "application/vnd.jupyter.widget-view+json": {
       "model_id": "c1dcd763734e46d993c6ffac522dd94c",
       "version_major": 2,
       "version_minor": 0
      },
      "text/plain": [
       "  0%|          | 0/275 [00:00<?, ?it/s]"
      ]
     },
     "metadata": {},
     "output_type": "display_data"
    },
    {
     "name": "stdout",
     "output_type": "stream",
     "text": [
      "Finished working on Dead or Alive.\n",
      "Working on Darkstalkers...\n"
     ]
    },
    {
     "data": {
      "application/vnd.jupyter.widget-view+json": {
       "model_id": "118ffd3310904c0398b6f7cf652d7cb3",
       "version_major": 2,
       "version_minor": 0
      },
      "text/plain": [
       "  0%|          | 0/275 [00:00<?, ?it/s]"
      ]
     },
     "metadata": {},
     "output_type": "display_data"
    },
    {
     "name": "stdout",
     "output_type": "stream",
     "text": [
      "Finished working on Darkstalkers.\n",
      "Working on Guilty Gear...\n"
     ]
    },
    {
     "data": {
      "application/vnd.jupyter.widget-view+json": {
       "model_id": "e9082ed7d034463f8905640f2c4ab7a2",
       "version_major": 2,
       "version_minor": 0
      },
      "text/plain": [
       "  0%|          | 0/275 [00:00<?, ?it/s]"
      ]
     },
     "metadata": {},
     "output_type": "display_data"
    },
    {
     "name": "stdout",
     "output_type": "stream",
     "text": [
      "Finished working on Guilty Gear.\n",
      "Working on Mortal Kombat...\n"
     ]
    },
    {
     "data": {
      "application/vnd.jupyter.widget-view+json": {
       "model_id": "8c5bc4166d274c3da93921c2497d39a4",
       "version_major": 2,
       "version_minor": 0
      },
      "text/plain": [
       "  0%|          | 0/275 [00:00<?, ?it/s]"
      ]
     },
     "metadata": {},
     "output_type": "display_data"
    },
    {
     "name": "stdout",
     "output_type": "stream",
     "text": [
      "Finished working on Mortal Kombat.\n",
      "Working on Soulcalibur...\n"
     ]
    },
    {
     "data": {
      "application/vnd.jupyter.widget-view+json": {
       "model_id": "ba18b917346947599bd5c925b636e587",
       "version_major": 2,
       "version_minor": 0
      },
      "text/plain": [
       "  0%|          | 0/275 [00:00<?, ?it/s]"
      ]
     },
     "metadata": {},
     "output_type": "display_data"
    },
    {
     "name": "stdout",
     "output_type": "stream",
     "text": [
      "Finished working on Soulcalibur.\n",
      "Working on Dragonball...\n"
     ]
    },
    {
     "data": {
      "application/vnd.jupyter.widget-view+json": {
       "model_id": "f0a3f2515a8b498fb4f475baf777ab4b",
       "version_major": 2,
       "version_minor": 0
      },
      "text/plain": [
       "  0%|          | 0/275 [00:00<?, ?it/s]"
      ]
     },
     "metadata": {},
     "output_type": "display_data"
    },
    {
     "name": "stdout",
     "output_type": "stream",
     "text": [
      "Finished working on Dragonball.\n"
     ]
    }
   ],
   "source": [
    "for franchise, franchise_name in zip(franchises, franchise_names):\n",
    "    \n",
    "    print(f\"Working on {franchise_name}...\")\n",
    "    characterFile = f'./characters/{franchise_name}.txt'\n",
    "\n",
    "    final_text = ''\n",
    "    characters = []\n",
    "\n",
    "    url = f\"https://danbooru.donmai.us/related_tag.json?query={franchise}&category=character&is_deprecated=false&order=count&limit={limit}\"\n",
    "    response = myurlopen(url)\n",
    "    related_tags = json.loads(response.read())['related_tags']\n",
    "\n",
    "    for rtag in tqdm(related_tags):\n",
    "        tag_dict = rtag['tag']\n",
    "        if tag_dict['post_count'] < 100:\n",
    "            continue\n",
    "        tag = tag_dict['name']\n",
    "        gen_search_url = f\"https://danbooru.donmai.us/related_tag.json?query={tag}&category=general&is_deprecated=false&order=count&limit={limit}\"\n",
    "        # search for 1boy\n",
    "        similarity_result = reject_if_above(gen_search_url, '1boy', boy_overlap_threshold)\n",
    "        # search for 1girl\n",
    "        similarity_result += reject_if_below(gen_search_url, '1girl', girl_overlap_threshold)\n",
    "\n",
    "        fran_search_url = f\"https://danbooru.donmai.us/related_tag.json?query={tag}&category=copyright&is_deprecated=false&order=count&limit={limit}\"\n",
    "        # make sure this tag actually matches this franchise\n",
    "        similarity_result += reject_if_below(fran_search_url, franchise, fran_overlap_threshold)\n",
    "        \n",
    "        # only allow if both are true\n",
    "        if similarity_result == 0:\n",
    "            upcycled_tags = upcycle_character(tag)\n",
    "\n",
    "            character = tag.strip().replace('_', ' ').replace('(', '\\(').replace(')', '\\)')\n",
    "            the_franchise = franchise.strip().replace('_', ' ').replace('(', '\\(').replace(')', '\\)')\n",
    "            \n",
    "            final_string = f'{character}, {the_franchise}, {upcycled_tags}\\n'\n",
    "\n",
    "            characters.append(final_string)\n",
    "\n",
    "    with open(characterFile, 'w') as f:\n",
    "        f.writelines( characters )\n",
    "    print(f\"Finished working on {franchise_name}.\")"
   ]
  },
  {
   "cell_type": "code",
   "execution_count": null,
   "metadata": {},
   "outputs": [],
   "source": []
  }
 ],
 "metadata": {
  "kernelspec": {
   "display_name": "base",
   "language": "python",
   "name": "python3"
  },
  "language_info": {
   "codemirror_mode": {
    "name": "ipython",
    "version": 3
   },
   "file_extension": ".py",
   "mimetype": "text/x-python",
   "name": "python",
   "nbconvert_exporter": "python",
   "pygments_lexer": "ipython3",
   "version": "3.9.19"
  }
 },
 "nbformat": 4,
 "nbformat_minor": 2
}
