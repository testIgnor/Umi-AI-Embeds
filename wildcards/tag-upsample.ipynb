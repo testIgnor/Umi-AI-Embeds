{
 "cells": [
  {
   "cell_type": "markdown",
   "metadata": {},
   "source": [
    "# To search Danbooru tags by most tagged with franchise:\n",
    "https://danbooru.donmai.us/related_tag.json?query={$SEARCH_TERM}&category=character&is_deprecated=false&order=count\n",
    "\n",
    "[Reference](https://danbooru.donmai.us/wiki_pages/help:api)"
   ]
  },
  {
   "cell_type": "code",
   "execution_count": 1,
   "metadata": {},
   "outputs": [],
   "source": [
    "import json\n",
    "from urllib.request import urlopen\n",
    "from urllib.error import HTTPError\n",
    "from tqdm.auto import tqdm\n",
    "import time"
   ]
  },
  {
   "cell_type": "code",
   "execution_count": 2,
   "metadata": {},
   "outputs": [
    {
     "name": "stdout",
     "output_type": "stream",
     "text": [
      "8 8\n"
     ]
    }
   ],
   "source": [
    "franchises = [\n",
    "    \"reverse:1999\",\n",
    "    \"last_origin\",\n",
    "    \"warship_girls_r\",\n",
    "    \"to_heart_(series)\",\n",
    "    \"darling_in_the_franxx\",\n",
    "    \"queen's_blade\",\n",
    "    \"monster_girl_encyclopedia\",\n",
    "    \"monster_musume_no_iru_nichijou\"\n",
    "\n",
    "]\n",
    "\n",
    "franchise_names = [\n",
    "    \"Reverse 1999\",\n",
    "    \"Last Origin\",\n",
    "    \"Warship Girls R\",\n",
    "    \"To Heart\",\n",
    "    \"Darling in the Franxx\",\n",
    "    \"Queens Blade\",\n",
    "    \"Monster Girl Encyclopedia\",\n",
    "    \"MonMusu\"\n",
    "]\n",
    "\n",
    "print(len(franchises), len(franchise_names))"
   ]
  },
  {
   "cell_type": "code",
   "execution_count": 3,
   "metadata": {},
   "outputs": [],
   "source": [
    "limit = 150\n",
    "boy_overlap_threshold = 0.35\n",
    "girl_overlap_threshold = 0.45\n",
    "fran_overlap_threshold = 0.8"
   ]
  },
  {
   "cell_type": "code",
   "execution_count": 4,
   "metadata": {},
   "outputs": [],
   "source": [
    "def myurlopen(url, max_wait=300):\n",
    "    i = 2\n",
    "    while True:       \n",
    "        try:\n",
    "            r = urlopen(url)\n",
    "            return r\n",
    "        except HTTPError as e:\n",
    "            print(e)\n",
    "            sleep_time = 2**i / 1000\n",
    "            if sleep_time > max_wait:\n",
    "                print('ABORT!')\n",
    "                raise TimeoutError(f'Timed out with max wait time of {max_wait} s')\n",
    "            print(f'Some HTTP error occurred. Waiting for {sleep_time}...')\n",
    "            time.sleep(sleep_time)\n",
    "            i += 1\n",
    "            continue\n",
    "\n",
    "def reject_if_above(url, target_tag, overlap_threshold):\n",
    "    try:\n",
    "        r = myurlopen(url)\n",
    "    except:\n",
    "        return 1\n",
    "    rt = json.loads(r.read())['related_tags']\n",
    "    # go through all tags\n",
    "    for t in rt:\n",
    "\n",
    "        # see if tag exists\n",
    "        if t['tag']['name'] == target_tag:\n",
    "            \n",
    "            # high overlap? reject\n",
    "            #print(t['overlap_coefficient'])\n",
    "            if t['overlap_coefficient'] > overlap_threshold:\n",
    "                #print('Should Reject')\n",
    "                return 1\n",
    "            # otherwise accept\n",
    "            else:\n",
    "                #print('Should Accept')\n",
    "                return 0\n",
    "    # tag doesn't exist, so accept\n",
    "    #print('Should Accept')\n",
    "    return 0\n",
    "\n",
    "def reject_if_below(url, target_tag, overlap_threshold):\n",
    "    try:\n",
    "        r = myurlopen(url)\n",
    "    except:\n",
    "        return 1\n",
    "    rt = json.loads(r.read())['related_tags']\n",
    "    \n",
    "    # go through all tags\n",
    "    for t in rt:\n",
    "\n",
    "        # see if tag exists\n",
    "        if t['tag']['name'] == target_tag:\n",
    "            \n",
    "            # high overlap? accept\n",
    "            #print(t['overlap_coefficient'])\n",
    "            if t['overlap_coefficient'] >= overlap_threshold:\n",
    "                #print('Should Accept')\n",
    "                return 0\n",
    "            # otherwise reject\n",
    "            else:\n",
    "                #print('Should Reject')\n",
    "                return 1\n",
    "    # tag doesn't exist, so reject\n",
    "    #print('Should Reject')\n",
    "    return 1\n",
    "\n",
    "def upcycle_character(character, qlimit=1000):\n",
    "    tags = []\n",
    "    tag_overlap = 0.25\n",
    "\n",
    "    url = f\"https://danbooru.donmai.us/related_tag.json?query={character}&category=general&is_deprecated=false&order=count&limit={qlimit}\"\n",
    "    response = myurlopen(url)\n",
    "    related_tags = json.loads(response.read())['related_tags']\n",
    "\n",
    "    for rtag in related_tags:\n",
    "        if rtag['overlap_coefficient'] <= tag_overlap:\n",
    "            continue\n",
    "        tag_dict = rtag['tag']\n",
    "        if tag_dict['post_count'] < 100:\n",
    "            continue\n",
    "        \n",
    "        if tag_dict['name'].endswith('eyes') or tag_dict['name'].endswith('hair') or ('skin' in tag_dict['name']) or tag_dict['name'].endswith('ears'):\n",
    "            tags.append( tag_dict['name'] ) \n",
    "\n",
    "    tags = set(tags)\n",
    "    processed = [ x.strip().replace('_', ' ').replace('(', '\\(').replace(')', '\\)') for x in tags]\n",
    "    tag_string = ', '.join(processed)\n",
    "    return tag_string"
   ]
  },
  {
   "cell_type": "code",
   "execution_count": 5,
   "metadata": {},
   "outputs": [
    {
     "name": "stdout",
     "output_type": "stream",
     "text": [
      "Working on Reverse 1999...\n"
     ]
    },
    {
     "data": {
      "application/vnd.jupyter.widget-view+json": {
       "model_id": "b7faa46e73484b1da0c7022739923de0",
       "version_major": 2,
       "version_minor": 0
      },
      "text/plain": [
       "  0%|          | 0/150 [00:00<?, ?it/s]"
      ]
     },
     "metadata": {},
     "output_type": "display_data"
    },
    {
     "name": "stdout",
     "output_type": "stream",
     "text": [
      "Finished working on Reverse 1999.\n",
      "Working on Last Origin...\n"
     ]
    },
    {
     "data": {
      "application/vnd.jupyter.widget-view+json": {
       "model_id": "cbff8e6f6a1d4374816b88fe2a6f6f8a",
       "version_major": 2,
       "version_minor": 0
      },
      "text/plain": [
       "  0%|          | 0/150 [00:00<?, ?it/s]"
      ]
     },
     "metadata": {},
     "output_type": "display_data"
    },
    {
     "name": "stdout",
     "output_type": "stream",
     "text": [
      "Finished working on Last Origin.\n",
      "Working on Warship Girls R...\n"
     ]
    },
    {
     "data": {
      "application/vnd.jupyter.widget-view+json": {
       "model_id": "3ec847d46c1e471ea8cdcd90eedf30c7",
       "version_major": 2,
       "version_minor": 0
      },
      "text/plain": [
       "  0%|          | 0/150 [00:00<?, ?it/s]"
      ]
     },
     "metadata": {},
     "output_type": "display_data"
    },
    {
     "name": "stdout",
     "output_type": "stream",
     "text": [
      "Finished working on Warship Girls R.\n",
      "Working on To Heart...\n"
     ]
    },
    {
     "data": {
      "application/vnd.jupyter.widget-view+json": {
       "model_id": "56a992aacfc646d2a117aa7a45454c45",
       "version_major": 2,
       "version_minor": 0
      },
      "text/plain": [
       "  0%|          | 0/150 [00:00<?, ?it/s]"
      ]
     },
     "metadata": {},
     "output_type": "display_data"
    },
    {
     "name": "stdout",
     "output_type": "stream",
     "text": [
      "Finished working on To Heart.\n",
      "Working on Darling in the Franxx...\n"
     ]
    },
    {
     "data": {
      "application/vnd.jupyter.widget-view+json": {
       "model_id": "f8ae6d5408304c148c2147ad92192629",
       "version_major": 2,
       "version_minor": 0
      },
      "text/plain": [
       "  0%|          | 0/150 [00:00<?, ?it/s]"
      ]
     },
     "metadata": {},
     "output_type": "display_data"
    },
    {
     "name": "stdout",
     "output_type": "stream",
     "text": [
      "Finished working on Darling in the Franxx.\n",
      "Working on Queens Blade...\n"
     ]
    },
    {
     "data": {
      "application/vnd.jupyter.widget-view+json": {
       "model_id": "e24e4b06d8f149ad8d3d81bc0e79235d",
       "version_major": 2,
       "version_minor": 0
      },
      "text/plain": [
       "  0%|          | 0/150 [00:00<?, ?it/s]"
      ]
     },
     "metadata": {},
     "output_type": "display_data"
    },
    {
     "name": "stdout",
     "output_type": "stream",
     "text": [
      "Finished working on Queens Blade.\n",
      "Working on Monster Girl Encyclopedia...\n"
     ]
    },
    {
     "data": {
      "application/vnd.jupyter.widget-view+json": {
       "model_id": "b51e9dcd6be14bceb854470e4780ed74",
       "version_major": 2,
       "version_minor": 0
      },
      "text/plain": [
       "  0%|          | 0/150 [00:00<?, ?it/s]"
      ]
     },
     "metadata": {},
     "output_type": "display_data"
    },
    {
     "name": "stdout",
     "output_type": "stream",
     "text": [
      "Finished working on Monster Girl Encyclopedia.\n",
      "Working on MonMusu...\n"
     ]
    },
    {
     "data": {
      "application/vnd.jupyter.widget-view+json": {
       "model_id": "67ae82268d1b424282f77b05164bb193",
       "version_major": 2,
       "version_minor": 0
      },
      "text/plain": [
       "  0%|          | 0/150 [00:00<?, ?it/s]"
      ]
     },
     "metadata": {},
     "output_type": "display_data"
    },
    {
     "name": "stdout",
     "output_type": "stream",
     "text": [
      "Finished working on MonMusu.\n"
     ]
    }
   ],
   "source": [
    "for franchise, franchise_name in zip(franchises, franchise_names):\n",
    "    \n",
    "    print(f\"Working on {franchise_name}...\")\n",
    "    characterFile = f'./characters/{franchise_name}.txt'\n",
    "\n",
    "    final_text = ''\n",
    "    characters = []\n",
    "\n",
    "    url = f\"https://danbooru.donmai.us/related_tag.json?query={franchise}&category=character&is_deprecated=false&order=count&limit={limit}\"\n",
    "    response = myurlopen(url)\n",
    "    related_tags = json.loads(response.read())['related_tags']\n",
    "\n",
    "    for rtag in tqdm(related_tags):\n",
    "        tag_dict = rtag['tag']\n",
    "        if tag_dict['post_count'] < 100:\n",
    "            continue\n",
    "        tag = tag_dict['name']\n",
    "        gen_search_url = f\"https://danbooru.donmai.us/related_tag.json?query={tag}&category=general&is_deprecated=false&order=count&limit={limit}\"\n",
    "        # search for 1boy\n",
    "        similarity_result = reject_if_above(gen_search_url, '1boy', boy_overlap_threshold)\n",
    "        # search for 1girl\n",
    "        similarity_result += reject_if_below(gen_search_url, '1girl', girl_overlap_threshold)\n",
    "\n",
    "        fran_search_url = f\"https://danbooru.donmai.us/related_tag.json?query={tag}&category=copyright&is_deprecated=false&order=count&limit={limit}\"\n",
    "        # make sure this tag actually matches this franchise\n",
    "        similarity_result += reject_if_below(fran_search_url, franchise, fran_overlap_threshold)\n",
    "        \n",
    "        # only allow if both are true\n",
    "        if similarity_result == 0:\n",
    "            upcycled_tags = upcycle_character(tag)\n",
    "\n",
    "            character = tag.strip().replace('_', ' ').replace('(', '\\(').replace(')', '\\)')\n",
    "            the_franchise = franchise.strip().replace('_', ' ').replace('(', '\\(').replace(')', '\\)')\n",
    "            \n",
    "            final_string = f'({character}:1.3), {the_franchise}, {upcycled_tags}\\n'\n",
    "\n",
    "            characters.append(final_string)\n",
    "\n",
    "    if len(characters) > 0:\n",
    "        with open(characterFile, 'w') as f:\n",
    "            f.writelines( characters )\n",
    "    print(f\"Finished working on {franchise_name}.\")"
   ]
  },
  {
   "cell_type": "code",
   "execution_count": null,
   "metadata": {},
   "outputs": [],
   "source": []
  }
 ],
 "metadata": {
  "kernelspec": {
   "display_name": "base",
   "language": "python",
   "name": "python3"
  },
  "language_info": {
   "codemirror_mode": {
    "name": "ipython",
    "version": 3
   },
   "file_extension": ".py",
   "mimetype": "text/x-python",
   "name": "python",
   "nbconvert_exporter": "python",
   "pygments_lexer": "ipython3",
   "version": "3.9.19"
  }
 },
 "nbformat": 4,
 "nbformat_minor": 2
}
