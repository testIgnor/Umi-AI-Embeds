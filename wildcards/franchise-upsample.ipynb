{
 "cells": [
  {
   "cell_type": "markdown",
   "metadata": {},
   "source": [
    "# To search Danbooru tags by most tagged with franchise:\n",
    "https://danbooru.donmai.us/related_tag.json?query={$SEARCH_TERM}&category=character&is_deprecated=false&order=count\n",
    "\n",
    "[Reference](https://danbooru.donmai.us/wiki_pages/help:api)"
   ]
  },
  {
   "cell_type": "code",
   "execution_count": 1,
   "metadata": {},
   "outputs": [],
   "source": [
    "import json\n",
    "import glob\n",
    "import os\n",
    "from urllib.request import urlopen\n",
    "from urllib.error import HTTPError\n",
    "from tqdm.auto import tqdm\n",
    "import time"
   ]
  },
  {
   "cell_type": "code",
   "execution_count": null,
   "metadata": {},
   "outputs": [
    {
     "name": "stdout",
     "output_type": "stream",
     "text": [
      "2 2\n"
     ]
    }
   ],
   "source": [
    "franchises = [\n",
    "  \"madou_monogatari\",\n",
    "  \"puyopuyo\"\n",
    "]\n",
    "\n",
    "franchise_names = [\n",
    "  \"Puyopuyo\",\n",
    "  \"Puyopuyo\"\n",
    "]\n",
    "\n",
    "franchises_file = './Franchises.yaml'\n",
    "franchises_text = \"\"\"\n",
    "'source_anime, __Characters/${FRANCHISE}__**(yellow skin, orange skin, red skin:1.5)**':\n",
    "  Description:\n",
    "    - ${FRANCHISE} Characters\n",
    "  Tags:\n",
    "    - Characters\n",
    "    - ${FRANCHISE}\n",
    "\"\"\"\n",
    "\n",
    "print(len(franchises), len(franchise_names))\n",
    "if len(franchises) != len(franchise_names):\n",
    "    raise Exception"
   ]
  },
  {
   "cell_type": "code",
   "execution_count": 3,
   "metadata": {},
   "outputs": [],
   "source": [
    "limit = 50\n",
    "\n",
    "boy_overlap_threshold = 0.35\n",
    "girl_overlap_threshold = 0.45\n",
    "fran_overlap_threshold = 0.8\n",
    "\n",
    "post_count_threshold = 25"
   ]
  },
  {
   "cell_type": "code",
   "execution_count": 4,
   "metadata": {},
   "outputs": [],
   "source": [
    "def myurlopen(url, max_wait=300):\n",
    "    i = 2\n",
    "    while True:       \n",
    "        try:\n",
    "            r = urlopen(url)\n",
    "            return r\n",
    "        except HTTPError as e:\n",
    "            print(e)\n",
    "            sleep_time = 2**i / 1000\n",
    "            if sleep_time > max_wait:\n",
    "                print('ABORT!')\n",
    "                raise TimeoutError(f'Timed out with max wait time of {max_wait} s')\n",
    "            print(f'Some HTTP error occurred. Waiting for {sleep_time}...')\n",
    "            time.sleep(sleep_time)\n",
    "            i += 1\n",
    "            continue\n",
    "\n",
    "def reject_if_above(url, target_tag, overlap_threshold):\n",
    "    try:\n",
    "        r = myurlopen(url)\n",
    "    except:\n",
    "        return 1\n",
    "    rt = json.loads(r.read())['related_tags']\n",
    "    # go through all tags\n",
    "    for t in rt:\n",
    "\n",
    "        # see if tag exists\n",
    "        if t['tag']['name'] == target_tag:\n",
    "            \n",
    "            # high overlap? reject\n",
    "            #print(t['overlap_coefficient'])\n",
    "            if t['overlap_coefficient'] > overlap_threshold:\n",
    "                #print('Should Reject')\n",
    "                return 1\n",
    "            # otherwise accept\n",
    "            else:\n",
    "                #print('Should Accept')\n",
    "                return 0\n",
    "    # tag doesn't exist, so accept\n",
    "    #print('Should Accept')\n",
    "    return 0\n",
    "\n",
    "def reject_if_below(url, target_tag, overlap_threshold):\n",
    "    try:\n",
    "        r = myurlopen(url)\n",
    "    except:\n",
    "        return 1\n",
    "    rt = json.loads(r.read())['related_tags']\n",
    "    \n",
    "    # go through all tags\n",
    "    for t in rt:\n",
    "\n",
    "        # see if tag exists\n",
    "        if t['tag']['name'] == target_tag:\n",
    "            \n",
    "            # high overlap? accept\n",
    "            #print(t['overlap_coefficient'])\n",
    "            if t['overlap_coefficient'] >= overlap_threshold:\n",
    "                #print('Should Accept')\n",
    "                return 0\n",
    "            # otherwise reject\n",
    "            else:\n",
    "                #print('Should Reject')\n",
    "                return 1\n",
    "    # tag doesn't exist, so reject\n",
    "    #print('Should Reject')\n",
    "    return 1\n",
    "\n",
    "def upcycle_character(character, qlimit=1000):\n",
    "    tags = []\n",
    "    tag_overlap = 0.25\n",
    "\n",
    "    url = f\"https://danbooru.donmai.us/related_tag.json?query={character}&category=general&is_deprecated=false&order=count&limit={qlimit}\"\n",
    "    response = myurlopen(url)\n",
    "    related_tags = json.loads(response.read())['related_tags']\n",
    "\n",
    "    for rtag in related_tags:\n",
    "        if rtag['overlap_coefficient'] <= tag_overlap:\n",
    "            continue\n",
    "        tag_dict = rtag['tag']\n",
    "        if tag_dict['post_count'] < post_count_threshold:\n",
    "            continue\n",
    "        \n",
    "        if tag_dict['name'].endswith('eyes') or tag_dict['name'].endswith('hair') or ('skin' in tag_dict['name']) or ('tail' in tag_dict['name']) or tag_dict['name'].endswith('ears') or ('ahoge' in tag_dict['name']):\n",
    "            \n",
    "            tags.append( tag_dict['name'] ) \n",
    "\n",
    "    tags = set(tags)\n",
    "    processed = [ x.strip().replace('_', ' ').replace('(', '\\(').replace(')', '\\)') for x in tags]\n",
    "    tag_string = ', '.join(processed)\n",
    "    return tag_string"
   ]
  },
  {
   "cell_type": "code",
   "execution_count": 5,
   "metadata": {},
   "outputs": [
    {
     "name": "stdout",
     "output_type": "stream",
     "text": [
      "Working on Puyopuyo...\n"
     ]
    },
    {
     "data": {
      "application/vnd.jupyter.widget-view+json": {
       "model_id": "bb04479573124e8aaef1038343d3777a",
       "version_major": 2,
       "version_minor": 0
      },
      "text/plain": [
       "  0%|          | 0/50 [00:00<?, ?it/s]"
      ]
     },
     "metadata": {},
     "output_type": "display_data"
    },
    {
     "name": "stdout",
     "output_type": "stream",
     "text": [
      "Finished working on Puyopuyo.\n",
      "Working on Puyopuyo...\n"
     ]
    },
    {
     "data": {
      "application/vnd.jupyter.widget-view+json": {
       "model_id": "153e093d64074ad7a96210ed0b4fb456",
       "version_major": 2,
       "version_minor": 0
      },
      "text/plain": [
       "  0%|          | 0/50 [00:00<?, ?it/s]"
      ]
     },
     "metadata": {},
     "output_type": "display_data"
    },
    {
     "name": "stdout",
     "output_type": "stream",
     "text": [
      "Finished working on Puyopuyo.\n"
     ]
    }
   ],
   "source": [
    "for franchise, franchise_name in zip(franchises, franchise_names):\n",
    "    \n",
    "    print(f\"Working on {franchise_name}...\")\n",
    "    characterFile = f'./characters/{franchise_name}.txt'\n",
    "\n",
    "    final_text = ''\n",
    "    characters = []\n",
    "\n",
    "    url = f\"https://danbooru.donmai.us/related_tag.json?query={franchise}&category=character&is_deprecated=false&order=count&limit={limit}\"\n",
    "    response = myurlopen(url)\n",
    "    related_tags = json.loads(response.read())['related_tags']\n",
    "\n",
    "    for rtag in tqdm(related_tags):\n",
    "        tag_dict = rtag['tag']\n",
    "        if tag_dict['post_count'] < post_count_threshold:\n",
    "            continue\n",
    "        tag = tag_dict['name']\n",
    "        gen_search_url = f\"https://danbooru.donmai.us/related_tag.json?query={tag}&category=general&is_deprecated=false&order=count&limit={limit}\"\n",
    "        # search for 1boy\n",
    "        similarity_result = reject_if_above(gen_search_url, '1boy', boy_overlap_threshold)\n",
    "        # search for 1girl\n",
    "        similarity_result += reject_if_below(gen_search_url, '1girl', girl_overlap_threshold)\n",
    "\n",
    "        fran_search_url = f\"https://danbooru.donmai.us/related_tag.json?query={tag}&category=copyright&is_deprecated=false&order=count&limit={limit}\"\n",
    "        # make sure this tag actually matches this franchise\n",
    "        similarity_result += reject_if_below(fran_search_url, franchise, fran_overlap_threshold)\n",
    "        \n",
    "        # only allow if both are true\n",
    "        if similarity_result == 0:\n",
    "            upcycled_tags = upcycle_character(tag)\n",
    "\n",
    "            character = tag.strip().replace('_', ' ').replace('(', '\\(').replace(')', '\\)')\n",
    "            the_franchise = franchise.strip().replace('_', ' ').replace('(', '\\(').replace(')', '\\)')\n",
    "            \n",
    "            final_string = f'({character}:1.3), {the_franchise}, {upcycled_tags}\\n'\n",
    "\n",
    "            characters.append(final_string)\n",
    "\n",
    "    if len(characters) > 0:\n",
    "        with open(characterFile, 'a+') as f:\n",
    "            f.writelines( characters )\n",
    "        with open(franchises_file, 'a+') as f:\n",
    "            new_text = franchises_text.replace('${FRANCHISE}', franchise_name)\n",
    "            f.write(new_text)\n",
    "    print(f\"Finished working on {franchise_name}.\")"
   ]
  },
  {
   "cell_type": "code",
   "execution_count": 4,
   "metadata": {},
   "outputs": [],
   "source": [
    "template_text = \"\"\"\n",
    "'NSFW, 1girl, <[characters][$FRANCHISE]>, <[Artists][--3D]>, as a <[ezage][female]>, {1%<[Emotions][negative]>||32%<[Emotions][neutral]>||<[Emotions][positive]>}, <[GazeFormat]>, solo <lora:PDXL_artist_tags_v2_big:1>':\n",
    "  Description:\n",
    "    - Random $FRANCHISE Character\n",
    "  Tags:\n",
    "    - 1girl\n",
    "    - $FRANCHISE\n",
    "    - CharacterPreset\n",
    "    - Female\n",
    "'NSFW, 1futa, <[characters][$FRANCHISE]>, <[Artists][--3D]>, as a <[ezage][futanari]>, {1%<[Emotions][negative]>||32%<[Emotions][neutral]>||<[Emotions][positive]>}, <[GazeFormat]>, solo <lora:PDXL_artist_tags_v2_big:1>':\n",
    "  Description:\n",
    "    - Random $FRANCHISE Character Futa\n",
    "  Tags:\n",
    "    - 1girl\n",
    "    - $FRANCHISE\n",
    "    - CharacterPreset\n",
    "    - Futanari\n",
    "'NSFW, 1boy, <[characters][$FRANCHISE]>, <[Artists][--3D]>, as a <[ezage][male]>, {1%<[Emotions][negative]>||32%<[Emotions][neutral]>||<[Emotions][positive]>}, <[GazeFormat]>, solo <lora:PDXL_artist_tags_v2_big:1>':\n",
    "  Description:\n",
    "    - Random $FRANCHISE Character Trap\n",
    "  Tags:\n",
    "    - 1boy\n",
    "    - $FRANCHISE\n",
    "    - CharacterPreset\n",
    "    - Male\n",
    "\"\"\"\n",
    "character_files = glob.glob('./characters/*.txt')\n",
    "godzilla_file = glob.glob('./characters/Godzilla*')[0]\n",
    "character_files.remove(godzilla_file)\n",
    "species_files = glob.glob('./species/*.txt')\n",
    "franchise_files = character_files + species_files\n",
    "final_text = ''\n",
    "for file in franchise_files:\n",
    "    franchise = os.path.basename(file).split('.txt')[0]\n",
    "    final_text += template_text.replace('$FRANCHISE', franchise)\n",
    "with open('./Franchise-Specific.yaml', 'w') as f:\n",
    "    f.write(final_text)"
   ]
  },
  {
   "cell_type": "code",
   "execution_count": null,
   "metadata": {},
   "outputs": [],
   "source": []
  }
 ],
 "metadata": {
  "kernelspec": {
   "display_name": "base",
   "language": "python",
   "name": "python3"
  },
  "language_info": {
   "codemirror_mode": {
    "name": "ipython",
    "version": 3
   },
   "file_extension": ".py",
   "mimetype": "text/x-python",
   "name": "python",
   "nbconvert_exporter": "python",
   "pygments_lexer": "ipython3",
   "version": "3.10.14"
  }
 },
 "nbformat": 4,
 "nbformat_minor": 2
}
