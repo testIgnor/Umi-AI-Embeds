{
 "cells": [
  {
   "cell_type": "markdown",
   "metadata": {},
   "source": [
    "# To search Danbooru tags by most tagged with franchise:\n",
    "https://danbooru.donmai.us/related_tag.json?query={$SEARCH_TERM}&category=character&is_deprecated=false&order=count\n",
    "\n",
    "[Reference](https://danbooru.donmai.us/wiki_pages/help:api)"
   ]
  },
  {
   "cell_type": "code",
   "execution_count": 13,
   "metadata": {},
   "outputs": [],
   "source": [
    "import json\n",
    "from urllib.request import urlopen\n",
    "from tqdm.auto import tqdm\n",
    "import time"
   ]
  },
  {
   "cell_type": "code",
   "execution_count": 14,
   "metadata": {},
   "outputs": [],
   "source": [
    "character = 'sky_(shantae)'\n",
    "limit = 1000"
   ]
  },
  {
   "cell_type": "code",
   "execution_count": 15,
   "metadata": {},
   "outputs": [],
   "source": [
    "def myurlopen(url, max_wait=300):\n",
    "    i = 2\n",
    "    while True:       \n",
    "        try:\n",
    "            r = urlopen(url)\n",
    "            return r\n",
    "        except:\n",
    "            sleep_time = 2**i / 1000\n",
    "            if sleep_time > max_wait:\n",
    "                print('ABORT!')\n",
    "                raise TimeoutError(f'Timed out with max wait time of {max_wait} s')\n",
    "            time.sleep(sleep_time)\n",
    "            i += 1\n",
    "            continue"
   ]
  },
  {
   "cell_type": "code",
   "execution_count": 16,
   "metadata": {},
   "outputs": [],
   "source": [
    "template_text = \"\"\"\n",
    "'$CHARACTER, $THE_FRANCHISE, $TAGS':\n",
    "  Description:\n",
    "    - $CHARACTER upsample tags\n",
    "  Tags:\n",
    "    - Characters\n",
    "    - $FRANCHISE\n",
    "    - $CHARACTER\n",
    "\"\"\""
   ]
  },
  {
   "cell_type": "code",
   "execution_count": 17,
   "metadata": {},
   "outputs": [
    {
     "data": {
      "application/vnd.jupyter.widget-view+json": {
       "model_id": "ef513343a9b445daba67628183d10b31",
       "version_major": 2,
       "version_minor": 0
      },
      "text/plain": [
       "  0%|          | 0/500 [00:00<?, ?it/s]"
      ]
     },
     "metadata": {},
     "output_type": "display_data"
    }
   ],
   "source": [
    "final_text = ''\n",
    "\n",
    "tags = []\n",
    "tag_overlap = 0.25\n",
    "\n",
    "url = f\"https://danbooru.donmai.us/related_tag.json?query={character}&category=general&is_deprecated=false&order=count&limit={limit}\"\n",
    "response = myurlopen(url)\n",
    "related_tags = json.loads(response.read())['related_tags']\n",
    "\n",
    "for rtag in tqdm(related_tags):\n",
    "    if rtag['overlap_coefficient'] <= tag_overlap:\n",
    "        continue\n",
    "    tag_dict = rtag['tag']\n",
    "    if tag_dict['post_count'] < 100:\n",
    "        continue\n",
    "    \n",
    "    if tag_dict['name'].endswith('eyes') or tag_dict['name'].endswith('hair') or ('skin' in tag_dict['name']) or ('tail' in tag_dict['name']) or tag_dict['name'].endswith('ears') or ('ahoge' in tag_dict['name']):\n",
    "        \n",
    "        tags.append( tag_dict['name'] )\n",
    "    # tags.append( tag_dict['name'] )\n",
    "\n",
    "tags = set(tags)\n",
    "processed = [ x.strip().replace('_', ' ').replace('(', '\\(').replace(')', '\\)') for x in tags]\n",
    "tag_string = ', '.join(processed)\n",
    "final_text += template_text.replace('$TAGS', tag_string).replace(\"$CHARACTER\", character)"
   ]
  },
  {
   "cell_type": "code",
   "execution_count": 18,
   "metadata": {},
   "outputs": [
    {
     "data": {
      "text/plain": [
       "'green skin, blue eyes, pointy ears, dark skin, blonde hair, green hair, colored skin, very long hair, long hair, dark-skinned female, purple hair, ponytail'"
      ]
     },
     "execution_count": 18,
     "metadata": {},
     "output_type": "execute_result"
    }
   ],
   "source": [
    "tag_string"
   ]
  },
  {
   "cell_type": "code",
   "execution_count": null,
   "metadata": {},
   "outputs": [],
   "source": []
  }
 ],
 "metadata": {
  "kernelspec": {
   "display_name": "base",
   "language": "python",
   "name": "python3"
  },
  "language_info": {
   "codemirror_mode": {
    "name": "ipython",
    "version": 3
   },
   "file_extension": ".py",
   "mimetype": "text/x-python",
   "name": "python",
   "nbconvert_exporter": "python",
   "pygments_lexer": "ipython3",
   "version": "3.9.19"
  }
 },
 "nbformat": 4,
 "nbformat_minor": 2
}
