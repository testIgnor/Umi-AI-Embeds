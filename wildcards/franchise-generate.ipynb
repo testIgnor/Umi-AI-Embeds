{
 "cells": [
  {
   "cell_type": "code",
   "execution_count": 1,
   "metadata": {},
   "outputs": [],
   "source": [
    "import glob\n",
    "import os"
   ]
  },
  {
   "cell_type": "code",
   "execution_count": 2,
   "metadata": {},
   "outputs": [],
   "source": [
    "template_text = \"\"\"\n",
    "'<[characters][$FRANCHISE]>, NSFW, 1girl, <[Artists][--3D]>, <[ezage]>, <[Emotions][positive|neutral]>, <[GazeFormat]>, <lora:PDXL_artist_tags_v2_big:1>':\n",
    "  Description:\n",
    "    - Random $FRANCHISE Character\n",
    "  Tags:\n",
    "    - 1girl\n",
    "    - $FRANCHISE\n",
    "    - FranchisePreset\n",
    "\"\"\""
   ]
  },
  {
   "cell_type": "code",
   "execution_count": 3,
   "metadata": {},
   "outputs": [],
   "source": [
    "character_files = glob.glob('./characters/*.txt')\n",
    "species_files = glob.glob('./species/*.txt')\n",
    "franchise_files = character_files + species_files\n",
    "final_text = ''\n",
    "for file in franchise_files:\n",
    "    franchise = os.path.basename(file).split('.txt')[0]\n",
    "    final_text += template_text.replace('$FRANCHISE', franchise)\n",
    "with open('./Franchise-Specific.yaml', 'w') as f:\n",
    "    f.write(final_text)"
   ]
  },
  {
   "cell_type": "code",
   "execution_count": null,
   "metadata": {},
   "outputs": [],
   "source": [
    "# file = './Franchise Girls.txt'\n",
    "# with open(file, 'r') as f:\n",
    "#     new_lines = []\n",
    "#     for l in f:\n",
    "#         name = l.split(',')[0] if len(l.split(',')) > 1 else l.split('\\n')[0]\n",
    "#         added_attention = f'({name}:1.3),' if len(l.split(',')) > 1 else f'({name}:1.3)\\n'\n",
    "\n",
    "#         new_lines.append(added_attention + ','.join(l.split(',')[1:]))\n",
    "\n",
    "# with open(file, 'w') as f:\n",
    "#     f.writelines(new_lines)"
   ]
  },
  {
   "cell_type": "code",
   "execution_count": null,
   "metadata": {},
   "outputs": [],
   "source": []
  }
 ],
 "metadata": {
  "kernelspec": {
   "display_name": "base",
   "language": "python",
   "name": "python3"
  },
  "language_info": {
   "codemirror_mode": {
    "name": "ipython",
    "version": 3
   },
   "file_extension": ".py",
   "mimetype": "text/x-python",
   "name": "python",
   "nbconvert_exporter": "python",
   "pygments_lexer": "ipython3",
   "version": "3.9.19"
  }
 },
 "nbformat": 4,
 "nbformat_minor": 2
}
