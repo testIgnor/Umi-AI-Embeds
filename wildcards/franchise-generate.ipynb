{
 "cells": [
  {
   "cell_type": "code",
   "execution_count": 1,
   "metadata": {},
   "outputs": [],
   "source": [
    "import glob\n",
    "import os"
   ]
  },
  {
   "cell_type": "code",
   "execution_count": 2,
   "metadata": {},
   "outputs": [],
   "source": [
    "template_text = \"\"\"\n",
    "'NSFW, 1girl, <[characters][$FRANCHISE]>, <[Artists][--3D]>, <[ezage]>, <[Emotions][positive|neutral]>, solo, <[GazeFormat]>, <[imageformat]>, <[myclothing]>, <[MyLocation]> <lora:PDXL_artist_tags_v2_big:1>':\n",
    "  Description:\n",
    "    - Random $FRANCHISE Character\n",
    "  Tags:\n",
    "    - MyPreset\n",
    "    - 1girl\n",
    "    - Random$FRANCHISE\n",
    "'<[Random$FRANCHISE]>, <[FutaAddon][--Beast]>':\n",
    "  Description:\n",
    "    - $FRANCHISE Futa\n",
    "  Tags:\n",
    "    - MyPreset\n",
    "    - 1girl\n",
    "    - Futanari\n",
    "\"\"\""
   ]
  },
  {
   "cell_type": "code",
   "execution_count": 3,
   "metadata": {},
   "outputs": [],
   "source": [
    "character_files = glob.glob('./characters/*.txt')\n",
    "species_files = glob.glob('./species/*.txt')\n",
    "franchise_files = character_files + species_files\n",
    "final_text = ''\n",
    "for file in franchise_files:\n",
    "    franchise = os.path.basename(file).split('.txt')[0]\n",
    "    final_text += template_text.replace('$FRANCHISE', franchise)\n",
    "with open('./Franchise-Specific.yaml', 'w') as f:\n",
    "    f.write(final_text)"
   ]
  },
  {
   "cell_type": "code",
   "execution_count": null,
   "metadata": {},
   "outputs": [],
   "source": []
  }
 ],
 "metadata": {
  "kernelspec": {
   "display_name": "base",
   "language": "python",
   "name": "python3"
  },
  "language_info": {
   "codemirror_mode": {
    "name": "ipython",
    "version": 3
   },
   "file_extension": ".py",
   "mimetype": "text/x-python",
   "name": "python",
   "nbconvert_exporter": "python",
   "pygments_lexer": "ipython3",
   "version": "3.9.19"
  }
 },
 "nbformat": 4,
 "nbformat_minor": 2
}
