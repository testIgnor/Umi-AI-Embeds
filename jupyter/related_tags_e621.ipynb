{
 "cells": [
  {
   "cell_type": "code",
   "execution_count": 58,
   "metadata": {},
   "outputs": [],
   "source": [
    "import json\n",
    "import urllib.request\n",
    "from urllib.error import HTTPError\n",
    "import time\n",
    "import math"
   ]
  },
  {
   "cell_type": "code",
   "execution_count": 59,
   "metadata": {},
   "outputs": [],
   "source": [
    "franchise = 'greek_mythology'\n",
    "franchise_name = 'Mythology'\n",
    "page_limit = 25\n",
    "\n",
    "franchises_file = '../wildcards/Franchises.yaml'\n",
    "franchises_text = \"\"\"\n",
    "'<[model][illu]>source_anime, __Characters/${FRANCHISE}__**(yellow skin, orange skin, red skin:1.5)**':\n",
    "  Description:\n",
    "    - ${FRANCHISE} Characters\n",
    "  Tags:\n",
    "    - Characters\n",
    "    - ${FRANCHISE}\n",
    "\"\"\"\n",
    "characterFile = f'../wildcards/characters/{franchise_name}.txt'"
   ]
  },
  {
   "cell_type": "code",
   "execution_count": 60,
   "metadata": {},
   "outputs": [],
   "source": [
    "def myurlopen(url, max_wait=300):\n",
    "    i = 2\n",
    "    while True:\n",
    "        try:\n",
    "            req = urllib.request.Request(\n",
    "                                            url,\n",
    "                                            data=None,\n",
    "                                            headers={\n",
    "                                                'User-Agent': 'Mozilla/5.0 (Windows NT 10.0; Win64; x64; rv:108.0) Gecko/20100101 Firefox/108.0'\n",
    "                                            }\n",
    "                                        )\n",
    "            r = urllib.request.urlopen(req)\n",
    "            return r\n",
    "        except HTTPError as e:\n",
    "            print(e)\n",
    "            sleep_time = 2 + 2**i / 1000\n",
    "            if sleep_time > max_wait:\n",
    "                print('ABORT!')\n",
    "                raise TimeoutError(f'Timed out with max wait time of {max_wait} s')\n",
    "            print(f'Some HTTP error occurred. Waiting for {sleep_time}...')\n",
    "            time.sleep(sleep_time)\n",
    "            i += 1\n",
    "            continue\n",
    "\n",
    "\n",
    "def cosine_similarity(tag1_count, tag2_count, tag12_count):\n",
    "    return tag12_count / math.sqrt(tag1_count * tag2_count)\n",
    "\n",
    "def get_e621_count(search_string):\n",
    "    url = f\"https://search.yiff.today/count?query={search_string}\"\n",
    "    print(f'now working on url: {url}')\n",
    "    response = myurlopen(url)\n",
    "    return json.loads(response.read())['count']\n",
    "\n",
    "def get_similarity(tag1, tag2):\n",
    "    tag1_count = get_e621_count(tag1)\n",
    "    #tag2_count = get_e621_count(tag2)\n",
    "    combined_count = get_e621_count(f'{tag1}+{tag2}')\n",
    "    #return cosine_similarity(tag1_count, tag2_count, combined_count)\n",
    "    return combined_count / tag1_count"
   ]
  },
  {
   "cell_type": "code",
   "execution_count": 61,
   "metadata": {},
   "outputs": [
    {
     "name": "stdout",
     "output_type": "stream",
     "text": [
      "now working on url: https://e621.net/posts.json?limit=320&tags=greek_mythology&page=1\n",
      "now working on url: https://e621.net/posts.json?limit=320&tags=greek_mythology&page=2\n",
      "now working on url: https://e621.net/posts.json?limit=320&tags=greek_mythology&page=3\n",
      "now working on url: https://e621.net/posts.json?limit=320&tags=greek_mythology&page=4\n",
      "now working on url: https://e621.net/posts.json?limit=320&tags=greek_mythology&page=5\n",
      "now working on url: https://e621.net/posts.json?limit=320&tags=greek_mythology&page=6\n",
      "now working on url: https://e621.net/posts.json?limit=320&tags=greek_mythology&page=7\n",
      "now working on url: https://e621.net/posts.json?limit=320&tags=greek_mythology&page=8\n",
      "now working on url: https://e621.net/posts.json?limit=320&tags=greek_mythology&page=9\n",
      "now working on url: https://e621.net/posts.json?limit=320&tags=greek_mythology&page=10\n",
      "now working on url: https://e621.net/posts.json?limit=320&tags=greek_mythology&page=11\n",
      "now working on url: https://e621.net/posts.json?limit=320&tags=greek_mythology&page=12\n",
      "now working on url: https://e621.net/posts.json?limit=320&tags=greek_mythology&page=13\n",
      "now working on url: https://e621.net/posts.json?limit=320&tags=greek_mythology&page=14\n",
      "now working on url: https://e621.net/posts.json?limit=320&tags=greek_mythology&page=15\n",
      "now working on url: https://e621.net/posts.json?limit=320&tags=greek_mythology&page=16\n",
      "now working on url: https://e621.net/posts.json?limit=320&tags=greek_mythology&page=17\n",
      "now working on url: https://e621.net/posts.json?limit=320&tags=greek_mythology&page=18\n",
      "now working on url: https://e621.net/posts.json?limit=320&tags=greek_mythology&page=19\n",
      "now working on url: https://e621.net/posts.json?limit=320&tags=greek_mythology&page=20\n",
      "now working on url: https://e621.net/posts.json?limit=320&tags=greek_mythology&page=21\n",
      "now working on url: https://e621.net/posts.json?limit=320&tags=greek_mythology&page=22\n",
      "now working on url: https://e621.net/posts.json?limit=320&tags=greek_mythology&page=23\n",
      "now working on url: https://e621.net/posts.json?limit=320&tags=greek_mythology&page=24\n"
     ]
    }
   ],
   "source": [
    "jdata = []\n",
    "for page in range(1, page_limit):\n",
    "    url = f\"https://e621.net/posts.json?limit=320&tags={franchise}&page={page}\"\n",
    "    print(f'now working on url: {url}')\n",
    "    response = myurlopen(url)\n",
    "    rjson = json.loads(response.read())\n",
    "    if not rjson['posts']:\n",
    "        break\n",
    "    jdata += rjson['posts']\n",
    "    time.sleep(1)"
   ]
  },
  {
   "cell_type": "code",
   "execution_count": 62,
   "metadata": {},
   "outputs": [],
   "source": [
    "character_tag_dict = {}\n",
    "\n",
    "for post in jdata:\n",
    "    post_tags = post['tags']\n",
    "    characters = post_tags['character']\n",
    "\n",
    "    for c in characters:\n",
    "        if c in character_tag_dict.keys():\n",
    "            character_tag_dict[c] += 1\n",
    "        else:\n",
    "            character_tag_dict[c] = 1"
   ]
  },
  {
   "cell_type": "code",
   "execution_count": 63,
   "metadata": {},
   "outputs": [],
   "source": [
    "reject_if_below_threshold = 0.7\n",
    "reject_if_above_threshold = 0.6\n",
    "franchise_overlap_threshold = 0.8\n",
    "total_post_threshold = 100\n",
    "tag_overlap = 0.66"
   ]
  },
  {
   "cell_type": "code",
   "execution_count": 64,
   "metadata": {},
   "outputs": [],
   "source": [
    "filtered_dict = {}\n",
    "\n",
    "for c in character_tag_dict.keys():\n",
    "    if character_tag_dict[c] < total_post_threshold:\n",
    "        continue\n",
    "    filtered_dict[c] = character_tag_dict[c]"
   ]
  },
  {
   "cell_type": "code",
   "execution_count": 65,
   "metadata": {},
   "outputs": [],
   "source": [
    "accept_criteria = [\n",
    "    'female',\n",
    "    '1girl',\n",
    "    '1girls'\n",
    "]\n",
    "\n",
    "reject_criteria = [\n",
    "    'male',\n",
    "    '1boy'\n",
    "]"
   ]
  },
  {
   "cell_type": "code",
   "execution_count": 66,
   "metadata": {},
   "outputs": [
    {
     "name": "stdout",
     "output_type": "stream",
     "text": [
      "now working on url: https://search.yiff.today/count?query=pirate_eagle\n",
      "now working on url: https://search.yiff.today/count?query=pirate_eagle+greek_mythology\n",
      "now working on url: https://search.yiff.today/count?query=pirate_eagle\n",
      "now working on url: https://search.yiff.today/count?query=pirate_eagle+female\n",
      "now working on url: https://search.yiff.today/count?query=pirate_eagle\n",
      "now working on url: https://search.yiff.today/count?query=pirate_eagle+1girl\n",
      "now working on url: https://search.yiff.today/count?query=pirate_eagle\n",
      "now working on url: https://search.yiff.today/count?query=pirate_eagle+1girls\n",
      "now working on url: https://search.yiff.today/count?query=pirate_eagle\n",
      "now working on url: https://search.yiff.today/count?query=pirate_eagle+male\n",
      "now working on url: https://search.yiff.today/count?query=pirate_eagle\n",
      "now working on url: https://search.yiff.today/count?query=pirate_eagle+1boy\n",
      "now working on url: https://search.yiff.today/count?query=cerberus_(fortnite)\n",
      "now working on url: https://search.yiff.today/count?query=cerberus_(fortnite)+greek_mythology\n",
      "now working on url: https://search.yiff.today/count?query=cerberus_(fortnite)\n",
      "now working on url: https://search.yiff.today/count?query=cerberus_(fortnite)+female\n",
      "now working on url: https://search.yiff.today/count?query=cerberus_(fortnite)\n",
      "now working on url: https://search.yiff.today/count?query=cerberus_(fortnite)+1girl\n",
      "now working on url: https://search.yiff.today/count?query=cerberus_(fortnite)\n",
      "now working on url: https://search.yiff.today/count?query=cerberus_(fortnite)+1girls\n",
      "now working on url: https://search.yiff.today/count?query=cerberus_(fortnite)\n",
      "now working on url: https://search.yiff.today/count?query=cerberus_(fortnite)+male\n",
      "now working on url: https://search.yiff.today/count?query=cerberus_(fortnite)\n",
      "now working on url: https://search.yiff.today/count?query=cerberus_(fortnite)+1boy\n",
      "now working on url: https://search.yiff.today/count?query=fan_character\n",
      "now working on url: https://search.yiff.today/count?query=fan_character+greek_mythology\n",
      "now working on url: https://search.yiff.today/count?query=fan_character\n",
      "now working on url: https://search.yiff.today/count?query=fan_character+female\n",
      "now working on url: https://search.yiff.today/count?query=fan_character\n",
      "now working on url: https://search.yiff.today/count?query=fan_character+1girl\n",
      "now working on url: https://search.yiff.today/count?query=fan_character\n",
      "now working on url: https://search.yiff.today/count?query=fan_character+1girls\n",
      "now working on url: https://search.yiff.today/count?query=fan_character\n",
      "now working on url: https://search.yiff.today/count?query=fan_character+male\n",
      "now working on url: https://search.yiff.today/count?query=fan_character\n",
      "now working on url: https://search.yiff.today/count?query=fan_character+1boy\n",
      "now working on url: https://search.yiff.today/count?query=silverstream_(mlp)\n",
      "now working on url: https://search.yiff.today/count?query=silverstream_(mlp)+greek_mythology\n",
      "now working on url: https://search.yiff.today/count?query=silverstream_(mlp)\n",
      "now working on url: https://search.yiff.today/count?query=silverstream_(mlp)+female\n",
      "now working on url: https://search.yiff.today/count?query=silverstream_(mlp)\n",
      "now working on url: https://search.yiff.today/count?query=silverstream_(mlp)+1girl\n",
      "now working on url: https://search.yiff.today/count?query=silverstream_(mlp)\n",
      "now working on url: https://search.yiff.today/count?query=silverstream_(mlp)+1girls\n",
      "now working on url: https://search.yiff.today/count?query=silverstream_(mlp)\n",
      "now working on url: https://search.yiff.today/count?query=silverstream_(mlp)+male\n",
      "now working on url: https://search.yiff.today/count?query=silverstream_(mlp)\n",
      "now working on url: https://search.yiff.today/count?query=silverstream_(mlp)+1boy\n",
      "now working on url: https://search.yiff.today/count?query=king_ghidorah\n",
      "now working on url: https://search.yiff.today/count?query=king_ghidorah+greek_mythology\n",
      "now working on url: https://search.yiff.today/count?query=king_ghidorah\n",
      "now working on url: https://search.yiff.today/count?query=king_ghidorah+female\n",
      "now working on url: https://search.yiff.today/count?query=king_ghidorah\n",
      "now working on url: https://search.yiff.today/count?query=king_ghidorah+1girl\n",
      "now working on url: https://search.yiff.today/count?query=king_ghidorah\n",
      "now working on url: https://search.yiff.today/count?query=king_ghidorah+1girls\n",
      "now working on url: https://search.yiff.today/count?query=king_ghidorah\n",
      "now working on url: https://search.yiff.today/count?query=king_ghidorah+male\n",
      "now working on url: https://search.yiff.today/count?query=king_ghidorah\n",
      "now working on url: https://search.yiff.today/count?query=king_ghidorah+1boy\n",
      "now working on url: https://search.yiff.today/count?query=centorea_shianus_(monster_musume)\n",
      "now working on url: https://search.yiff.today/count?query=centorea_shianus_(monster_musume)+greek_mythology\n",
      "now working on url: https://search.yiff.today/count?query=centorea_shianus_(monster_musume)\n",
      "now working on url: https://search.yiff.today/count?query=centorea_shianus_(monster_musume)+female\n",
      "now working on url: https://search.yiff.today/count?query=centorea_shianus_(monster_musume)\n",
      "now working on url: https://search.yiff.today/count?query=centorea_shianus_(monster_musume)+1girl\n",
      "now working on url: https://search.yiff.today/count?query=centorea_shianus_(monster_musume)\n",
      "now working on url: https://search.yiff.today/count?query=centorea_shianus_(monster_musume)+1girls\n",
      "now working on url: https://search.yiff.today/count?query=centorea_shianus_(monster_musume)\n",
      "now working on url: https://search.yiff.today/count?query=centorea_shianus_(monster_musume)+male\n",
      "now working on url: https://search.yiff.today/count?query=centorea_shianus_(monster_musume)\n",
      "now working on url: https://search.yiff.today/count?query=centorea_shianus_(monster_musume)+1boy\n"
     ]
    }
   ],
   "source": [
    "accepted_characters = []\n",
    "\n",
    "for c in filtered_dict.keys():\n",
    "    hits = 0\n",
    "    similarity = get_similarity(c, franchise)\n",
    "    if similarity < franchise_overlap_threshold:\n",
    "        hits += 1\n",
    "    for a in accept_criteria:\n",
    "        similarity = get_similarity(c, a)\n",
    "        if similarity < reject_if_below_threshold:\n",
    "            hits += 1\n",
    "    for a in reject_criteria:\n",
    "        similarity = get_similarity(c, a)\n",
    "        if similarity > reject_if_above_threshold:\n",
    "            hits += 1\n",
    "    if hits == 0:\n",
    "        accepted_characters.append(c)"
   ]
  },
  {
   "cell_type": "code",
   "execution_count": 67,
   "metadata": {},
   "outputs": [
    {
     "data": {
      "text/plain": [
       "['silverstream_(mlp)', 'centorea_shianus_(monster_musume)']"
      ]
     },
     "execution_count": 67,
     "metadata": {},
     "output_type": "execute_result"
    }
   ],
   "source": [
    "accepted_characters"
   ]
  },
  {
   "cell_type": "code",
   "execution_count": 68,
   "metadata": {},
   "outputs": [],
   "source": [
    "characters = []\n",
    "\n",
    "for c in accepted_characters:\n",
    "\n",
    "    character = c.strip().replace('_', ' ').replace('(', '\\\\(').replace(')', '\\\\)')\n",
    "    the_franchise = franchise.strip().replace('_', ' ').replace('(', '\\\\(').replace(')', '\\\\)')\n",
    "    final_string = f'({character}:1.3), {the_franchise}\\n'\n",
    "    characters.append(final_string)"
   ]
  },
  {
   "cell_type": "code",
   "execution_count": 69,
   "metadata": {},
   "outputs": [],
   "source": [
    "if len(characters) > 0:\n",
    "    with open(characterFile, 'a+') as f:\n",
    "        f.writelines( characters )\n",
    "    with open(franchises_file, 'a+') as f:\n",
    "        new_text = franchises_text.replace('${FRANCHISE}', franchise_name)\n",
    "        f.write(new_text)"
   ]
  },
  {
   "cell_type": "code",
   "execution_count": null,
   "metadata": {},
   "outputs": [],
   "source": []
  }
 ],
 "metadata": {
  "kernelspec": {
   "display_name": "python313",
   "language": "python",
   "name": "python3"
  },
  "language_info": {
   "codemirror_mode": {
    "name": "ipython",
    "version": 3
   },
   "file_extension": ".py",
   "mimetype": "text/x-python",
   "name": "python",
   "nbconvert_exporter": "python",
   "pygments_lexer": "ipython3",
   "version": "3.13.2"
  }
 },
 "nbformat": 4,
 "nbformat_minor": 2
}
