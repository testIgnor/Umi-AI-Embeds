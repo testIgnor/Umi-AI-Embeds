{
 "cells": [
  {
   "cell_type": "code",
   "execution_count": 1,
   "id": "8e3b9e1c",
   "metadata": {},
   "outputs": [],
   "source": [
    "import os\n",
    "import pathlib\n",
    "import glob\n",
    "import shutil\n",
    "import json"
   ]
  },
  {
   "cell_type": "code",
   "execution_count": 2,
   "id": "2620fc20",
   "metadata": {},
   "outputs": [],
   "source": [
    "cainfo = glob.glob('../../../models/Lora/*.civitai.info')\n",
    "\n",
    "base_model_count = {}\n",
    "\n",
    "for cai in cainfo:\n",
    "    fname = pathlib.Path(cai).stem.split('.civitai')[0]\n",
    "    with open(cai, 'r') as f:\n",
    "        bm = json.load(f)['baseModel']\n",
    "    res = glob.glob(f'../../../models/Lora/{fname}*')\n",
    "    for r in res:\n",
    "        dest_fname = os.path.basename(r)\n",
    "        dest_file = os.path.join(f'../../../models/Lora/{bm}', dest_fname)\n",
    "        shutil.move(r, dest_file)\n",
    "        print(r, '->', dest_file)"
   ]
  },
  {
   "cell_type": "code",
   "execution_count": null,
   "id": "b350c2db",
   "metadata": {},
   "outputs": [],
   "source": []
  }
 ],
 "metadata": {
  "kernelspec": {
   "display_name": "base",
   "language": "python",
   "name": "python3"
  },
  "language_info": {
   "codemirror_mode": {
    "name": "ipython",
    "version": 3
   },
   "file_extension": ".py",
   "mimetype": "text/x-python",
   "name": "python",
   "nbconvert_exporter": "python",
   "pygments_lexer": "ipython3",
   "version": "3.10.14"
  }
 },
 "nbformat": 4,
 "nbformat_minor": 5
}
