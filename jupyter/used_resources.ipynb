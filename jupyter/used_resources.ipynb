{
 "cells": [
  {
   "cell_type": "code",
   "execution_count": 7,
   "metadata": {},
   "outputs": [],
   "source": [
    "import glob\n",
    "import re\n",
    "import pathlib\n",
    "import json\n",
    "import os\n",
    "import shutil\n",
    "\n",
    "from tqdm.auto import tqdm"
   ]
  },
  {
   "cell_type": "code",
   "execution_count": 8,
   "metadata": {},
   "outputs": [
    {
     "data": {
      "application/vnd.jupyter.widget-view+json": {
       "model_id": "7f5db97fd1314e7c9186258571ecfff4",
       "version_major": 2,
       "version_minor": 0
      },
      "text/plain": [
       "0it [00:00, ?it/s]"
      ]
     },
     "metadata": {},
     "output_type": "display_data"
    }
   ],
   "source": [
    "cainfo = glob.glob('../../../models/Lora/*.civitai.info')\n",
    "\n",
    "base_model_count = {}\n",
    "\n",
    "for cai in tqdm(cainfo):\n",
    "    fname = pathlib.Path(cai).stem.split('.civitai')[0]\n",
    "    with open(cai, 'r') as f:\n",
    "        bm = json.load(f)['baseModel']\n",
    "    res = glob.glob(f'../../../models/Lora/{fname}*')\n",
    "    for r in res:\n",
    "        dest_fname = os.path.basename(r)\n",
    "        dest_file = os.path.join(f'../../../models/Lora/{bm}', dest_fname)\n",
    "        shutil.move(r, dest_file)\n",
    "        print(r, '->', dest_file)"
   ]
  },
  {
   "cell_type": "code",
   "execution_count": 9,
   "metadata": {},
   "outputs": [],
   "source": [
    "def read_metadata_from_safetensors(filename):\n",
    "    with open(filename, mode=\"rb\") as file:\n",
    "        metadata_len = file.read(8)\n",
    "        metadata_len = int.from_bytes(metadata_len, \"little\")\n",
    "        json_start = file.read(2)\n",
    "\n",
    "        assert metadata_len > 2 and json_start in (b'{\"', b\"{'\"), f\"{filename} is not a safetensors file\"\n",
    "\n",
    "        res = {}\n",
    "\n",
    "        try:\n",
    "            json_data = json_start + file.read(metadata_len-2)\n",
    "            json_obj = json.loads(json_data)\n",
    "            for k, v in json_obj.get(\"__metadata__\", {}).items():\n",
    "                res[k] = v\n",
    "                if isinstance(v, str) and v[0:1] == '{':\n",
    "                    try:\n",
    "                        res[k] = json.loads(v)\n",
    "                    except Exception:\n",
    "                        pass\n",
    "        except Exception:\n",
    "             Exception(f\"Error reading metadata from file: {filename}\")\n",
    "\n",
    "        return res"
   ]
  },
  {
   "cell_type": "code",
   "execution_count": 10,
   "metadata": {},
   "outputs": [],
   "source": [
    "files = glob.glob('../wildcards/**/*.txt', recursive=True) + glob.glob('../wildcards/**/*.yaml', recursive=True)\n",
    "\n",
    "pattern = re.compile('<lora:(.+?):')"
   ]
  },
  {
   "cell_type": "code",
   "execution_count": 11,
   "metadata": {},
   "outputs": [],
   "source": [
    "matches = []\n",
    "for file in files:\n",
    "    with open(file, 'r') as f:\n",
    "        matches += [ x.strip() for x in pattern.findall(f.read()) ]\n",
    "matches = set(matches)"
   ]
  },
  {
   "cell_type": "code",
   "execution_count": 12,
   "metadata": {},
   "outputs": [
    {
     "data": {
      "application/vnd.jupyter.widget-view+json": {
       "model_id": "8963f79849dc4dfcb9f0bd7a156b60af",
       "version_major": 2,
       "version_minor": 0
      },
      "text/plain": [
       "  0%|          | 0/2550 [00:00<?, ?it/s]"
      ]
     },
     "metadata": {},
     "output_type": "display_data"
    }
   ],
   "source": [
    "loras = glob.glob('../../../models/Lora/**/*.safetensors', recursive=True)\n",
    "\n",
    "ss_names = []\n",
    "fnames = []\n",
    "lora_dict = {\n",
    "    \"forward\": {},\n",
    "    \"reverse\": {}\n",
    "}\n",
    "\n",
    "for lora in tqdm(loras):\n",
    "    fname = pathlib.Path(lora).stem\n",
    "    fnames.append(fname)\n",
    "    try:\n",
    "        ss_name = read_metadata_from_safetensors(lora)['ss_output_name']\n",
    "    except:\n",
    "        ss_name = fname\n",
    "\n",
    "    ss_name = ss_name.strip()\n",
    "\n",
    "    baseModel = os.path.normpath(lora).split('Lora')[1].split(os.sep)[1]\n",
    "    lora_dict['forward'][fname] = {\n",
    "                                   'ss_name': ss_name,\n",
    "                                   'baseModel': baseModel\n",
    "                                   }\n",
    "\n",
    "    if ss_name in lora_dict['reverse'].keys():\n",
    "        lora_dict['reverse'][ss_name] += [fname]\n",
    "    else:\n",
    "        lora_dict['reverse'][ss_name] = [fname]\n",
    "    ss_names.append(ss_name)\n",
    "ss_names = set(ss_names)\n",
    "fnames = set(fnames)\n",
    "with open('../wildcards/used_resources.json', 'w') as f:\n",
    "    json.dump(lora_dict, f, indent=4)"
   ]
  },
  {
   "cell_type": "code",
   "execution_count": 13,
   "metadata": {},
   "outputs": [
    {
     "data": {
      "text/plain": [
       "{'1990sPCstyle_IL_v4',\n",
       " '2Foxy_-_fnaf_thegeckoninja_style',\n",
       " 'AlcinaDimitrescuxl-12-153',\n",
       " 'AlcinaDimitrescuxl-12v6',\n",
       " 'Aphrodite_Fortnite-000005',\n",
       " 'Bowsette-2',\n",
       " 'CHARACTER_Machamp',\n",
       " 'CHARACTER_Machoke',\n",
       " 'CrystalMommy',\n",
       " 'Dmon ill-000045',\n",
       " 'ErisaFNIlluV1',\n",
       " 'FN_Katalina',\n",
       " 'Garuda',\n",
       " 'IL_Sarah_Damon',\n",
       " 'KDA_Kaisa_PONY',\n",
       " 'Katt_Monroe_illu',\n",
       " 'Lia_Venegas_v2',\n",
       " 'LiliT8-07',\n",
       " 'MatchaXL',\n",
       " 'Mervamon_-_Digimon-000009',\n",
       " 'Mervamon_-_Digimon-000009(1)',\n",
       " 'Mervamon_-_Digimon-000009(1.5.2)',\n",
       " 'MilaDOA-10',\n",
       " 'Monster Girl Dragon',\n",
       " 'POKEMON_MEOWSTIC_ FEMALE',\n",
       " 'POKEMON_MEOWSTIC_MALE',\n",
       " 'PONY_Sarah_Damon',\n",
       " 'Pauline-1',\n",
       " 'Princess_Elise_-_Sonic_06_Illustrious',\n",
       " 'Protogen-base',\n",
       " 'Protogen-ponyxl',\n",
       " 'Renamon iLLus',\n",
       " 'Riley_Andersen_A',\n",
       " 'SerahFarron',\n",
       " 'Shiva',\n",
       " 'SmiteAphroditeIllu',\n",
       " 'Stella',\n",
       " 'Venom Absorb',\n",
       " 'YunaPony',\n",
       " '[Bethesda] Flame Atronach (Skyrim) Character Illustrious',\n",
       " \"[DAGASI (Sega Sonic)] Miles 'Tails' Prower Character 2.0 IllustriousXL\",\n",
       " \"[DAGASI (Sega Sonic)] Miles 'Tails' Prower Character V3 IllustriousXL\",\n",
       " '[Dave Cheung] Extracurricular ArtistCG Art Style PonyXL',\n",
       " '[Legoman (LMSketch)] Colored Pics by Roa80H Artist Style Illustrious',\n",
       " '[Minus8] Artist Style PonyXL',\n",
       " '[Sindoll (Nintendo Star Fox)] Krystal Series Doujin Style PonyXL',\n",
       " '[StarFox (Nintendo)] Krystal Character PonyXL',\n",
       " '[Zone] 2006-2008 Artist Style Illustrious',\n",
       " '[Zone] 2006-2008 Artist Style PonyXL',\n",
       " '[Zone] 2006-2008 Artist Style Ver2 Illustrious',\n",
       " '[incise soul (Team Ninja Dead Or Alive)] Marie Rose Character Illustrious',\n",
       " '[incise soul (Team Ninja Dead Or Alive)] Marie Rose Character PonyXL',\n",
       " 'akumajocharlotteaulinpony',\n",
       " 'bigrbear_Artist_Style_PonyXL',\n",
       " 'bowsette-1',\n",
       " 'bowsette-10',\n",
       " 'bowsette-3',\n",
       " 'bowsettev1',\n",
       " 'br hatsune miku_v2',\n",
       " 'dina',\n",
       " 'dva academy illus-000040',\n",
       " 'emily_kaldwin',\n",
       " 'fepas_XL-v2.0_il',\n",
       " 'fepds_XL-v2.0_il',\n",
       " 'fepne_XL-v2.0_il',\n",
       " 'lore',\n",
       " 'lugia-05',\n",
       " 'madeline-v1.0',\n",
       " 'minus8-8-000040',\n",
       " 'minus8-8-000040-V1',\n",
       " 'nemia-10',\n",
       " 'pauline',\n",
       " 'recluse_50_v3_IL20stable',\n",
       " 'renamon-05',\n",
       " 'roderika',\n",
       " 'strap-on xl'}"
      ]
     },
     "execution_count": 13,
     "metadata": {},
     "output_type": "execute_result"
    }
   ],
   "source": [
    "matches.difference(ss_names)"
   ]
  },
  {
   "cell_type": "code",
   "execution_count": 14,
   "metadata": {},
   "outputs": [
    {
     "data": {
      "text/plain": [
       "set()"
      ]
     },
     "execution_count": 14,
     "metadata": {},
     "output_type": "execute_result"
    }
   ],
   "source": [
    "matches.difference(ss_names.union(fnames))"
   ]
  },
  {
   "cell_type": "code",
   "execution_count": 15,
   "metadata": {},
   "outputs": [
    {
     "name": "stdout",
     "output_type": "stream",
     "text": [
      "Foxy_-_fnaf_thegeckoninja_style ['2Foxy_-_fnaf_thegeckoninja_style', 'Foxy_-_fnaf_thegeckoninja_style']\n",
      "Aphrodite_Fortnite ['Aphrodite_Fortnite-000005', 'Aphrodite_Fortnite']\n",
      "Bowsette ['Bowsette', 'Bowsette-2', 'Bowsette']\n",
      "br hatsune miku ['br hatsune miku_v2', 'br hatsune miku']\n",
      "Katt_Monroe ['Katt_Monroe_illu', 'Katt_Monroe']\n",
      "KDA_Kaisa ['KDA_Kaisa', 'KDA_Kaisa_PONY']\n",
      "Lucky_Chloe_Tekken_PONY_XL_by_UOC ['Lucky_Chloe_Tekken_PONY_XL_by_UOC', 'Lucky_Chloe_Tekken_PONY_XL_by_UOC']\n",
      "TimeKeeperXL ['MatchaXL', 'TimeKeeperXL']\n",
      "Princess_Elise_-_Sonic_06 ['Princess_Elise_-_Sonic_06_Illustrious', 'Princess_Elise_-_Sonic_06']\n",
      "Princess_Peach ['Princess_Peach', 'Princess_Peach_Pony']\n",
      "SmiteAphrodite ['SmiteAphroditeIllu', 'SmiteAphrodite']\n",
      "MilaDOA ['MilaDOA-10', 'MilaDOA']\n",
      "nemia ['nemia-10', 'nemia']\n",
      "Protogen ['Protogen-base', 'Protogen-ponyxl']\n",
      "Riley_Andersen ['Riley_Andersen', 'Riley_Andersen_A']\n"
     ]
    }
   ],
   "source": [
    "for x in lora_dict['reverse']:\n",
    "    if x in matches:\n",
    "        if len(lora_dict['reverse'][x]) > 1:\n",
    "            print(x, lora_dict['reverse'][x])"
   ]
  },
  {
   "cell_type": "code",
   "execution_count": null,
   "metadata": {},
   "outputs": [],
   "source": []
  }
 ],
 "metadata": {
  "kernelspec": {
   "display_name": "base",
   "language": "python",
   "name": "python3"
  },
  "language_info": {
   "codemirror_mode": {
    "name": "ipython",
    "version": 3
   },
   "file_extension": ".py",
   "mimetype": "text/x-python",
   "name": "python",
   "nbconvert_exporter": "python",
   "pygments_lexer": "ipython3",
   "version": "3.10.14"
  }
 },
 "nbformat": 4,
 "nbformat_minor": 2
}
