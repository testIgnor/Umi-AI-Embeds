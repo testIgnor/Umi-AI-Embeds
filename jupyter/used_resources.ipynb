{
 "cells": [
  {
   "cell_type": "code",
   "execution_count": 23,
   "metadata": {},
   "outputs": [],
   "source": [
    "import glob\n",
    "import re\n",
    "import pathlib"
   ]
  },
  {
   "cell_type": "code",
   "execution_count": 24,
   "metadata": {},
   "outputs": [],
   "source": [
    "files = glob.glob('../wildcards/**/*.txt', recursive=True) + glob.glob('../wildcards/**/*.yaml', recursive=True)\n",
    "\n",
    "pattern = re.compile('<lora:(.+?):')"
   ]
  },
  {
   "cell_type": "code",
   "execution_count": 27,
   "metadata": {},
   "outputs": [
    {
     "data": {
      "text/plain": [
       "117"
      ]
     },
     "execution_count": 27,
     "metadata": {},
     "output_type": "execute_result"
    }
   ],
   "source": [
    "matches = []\n",
    "\n",
    "for file in files:\n",
    "    with open(file, 'r') as f:\n",
    "        matches += pattern.findall(f.read())\n",
    "matches = set(matches)\n",
    "loras = set([ pathlib.Path(x).stem for x in glob.glob('../../../models/Lora/*.safetensors')])\n",
    "diff = matches.difference(loras)\n",
    "len(diff)"
   ]
  },
  {
   "cell_type": "code",
   "execution_count": 26,
   "metadata": {},
   "outputs": [
    {
     "data": {
      "text/plain": [
       "{'0040 metal tassel_v3_pony',\n",
       " '10_wilykit_il',\n",
       " 'AHK',\n",
       " 'Abella_Danger',\n",
       " 'Allstars Illus',\n",
       " 'Amaterasu_Okami_PonyXL_prototype',\n",
       " 'AngelSMT-pdxl',\n",
       " 'Aoi V2',\n",
       " 'Arahan',\n",
       " 'Black cat dva illus',\n",
       " 'Bree_Daniels',\n",
       " 'CHARACTER_AMPHAROS_PONY_XL',\n",
       " 'CHARACTER_MECHAGODZILLA',\n",
       " 'Charlotte_Stokely',\n",
       " 'CorruptPonyXL',\n",
       " 'D.Va',\n",
       " 'D.Va Heist',\n",
       " 'Dark_Elf_Dreadlord_PonyXL_Total_War_Warhammer',\n",
       " 'Desdemonaxl',\n",
       " 'Diathorn_Illustrious',\n",
       " 'DurgaGR-pdxl',\n",
       " 'Dva porsche',\n",
       " 'Eleanor ',\n",
       " 'EleanorMillerillustrious1.0JLFO',\n",
       " 'Elsa frozen',\n",
       " 'Falin',\n",
       " 'Felnara_seii3s_Shadow_Lugia',\n",
       " 'Fiona_xenoblade_3',\n",
       " 'Floren ponyXL v1.5',\n",
       " 'Gallade',\n",
       " 'Godzilla_Kaiju_Girls_Pony',\n",
       " 'Jinora_-_Original_Appearance_-_Legend_of_Korra',\n",
       " 'KaliGR-pdxl',\n",
       " 'Kiryu_v20',\n",
       " 'Lettie',\n",
       " 'Leucochloridium',\n",
       " 'MLeonheart_Style',\n",
       " 'Mercy_Overwatch_Ultimate_Pack_PonyXL_LoRA',\n",
       " 'Mesprit_Pony',\n",
       " 'Midna',\n",
       " 'Morathi',\n",
       " 'Neon_Ravegirl_XL',\n",
       " 'Nopeys',\n",
       " 'NyxWF_PDXL',\n",
       " 'Officerdva',\n",
       " 'Ogre',\n",
       " 'Overwatch_-_Le_Sserafim_-_Brigitte',\n",
       " 'Overwatch_-_Le_Sserafim_-_D.va',\n",
       " 'Overwatch_-_Le_Sserafim_-_Kiriko',\n",
       " 'Overwatch_-_Le_Sserafim_-_Sombra',\n",
       " 'Overwatch_-_Le_Sserafim_-_Tracer',\n",
       " 'PDXL_artist_tags_v2_big',\n",
       " 'POKEMON_AZELF',\n",
       " 'Riley Andersen (Inside Out) - Gnsisir Style',\n",
       " 'RoboFur_Anthro_v1',\n",
       " 'RoboFur_Feral_v1',\n",
       " 'RoboTaur_v1',\n",
       " 'Sakimichan_Tifa_Nurse_Outfit_Cosplay',\n",
       " 'Sarynxl',\n",
       " 'Serenica',\n",
       " 'Shin-ryeong_dva_illus',\n",
       " 'Sleighing dva',\n",
       " 'StatueOfLiberty',\n",
       " 'Strapless_Pothole_Tube_Dress_SKNSFW',\n",
       " 'TLOZ_Midna_a1_1_PonyXL',\n",
       " 'Tabitha_pony_ct_',\n",
       " 'Tsareena',\n",
       " 'TwistedScarlett-Illustrious',\n",
       " 'VelTwins',\n",
       " 'Wilykit_thundercats_2011',\n",
       " 'WitchElf',\n",
       " 'Wolbra_v2',\n",
       " 'Yonta',\n",
       " 'Yshtola',\n",
       " 'Zekrom_Pokemon',\n",
       " 'Zeraora_-_Pokemon_PONY_XL',\n",
       " 'abby',\n",
       " 'alipony',\n",
       " 'arcane_pony_v2-0-2',\n",
       " 'attire_virgindestroyer_ponyXL',\n",
       " 'ayyasap_pony_v3',\n",
       " 'bodypaint_ero',\n",
       " 'canalV3',\n",
       " 'cherry_mouse_street_illu',\n",
       " 'diathorn_style_illustrious01_v3',\n",
       " 'disney3d-illustrious',\n",
       " 'dq_daisy_ponyXL',\n",
       " 'feo_ul',\n",
       " 'ffxiii_lightning_ponyXL',\n",
       " 'froslass3ksteps',\n",
       " 'genista',\n",
       " 'glimmer xl 053',\n",
       " 'gravityrush_kat_ponyXL',\n",
       " 'humandragon_taur',\n",
       " 'j1n0r2IL',\n",
       " 'juno',\n",
       " 'lotusXL',\n",
       " 'luce',\n",
       " 'lugia',\n",
       " 'lyse',\n",
       " 'marcilledonato',\n",
       " 'nia xl 062',\n",
       " 'omega_f',\n",
       " 'persona3_aegis_ponyXL',\n",
       " 'persona4_labrys_ponyXL',\n",
       " 'poppi_alpha_xenoblade_2',\n",
       " 'skinbodysuit e3',\n",
       " 'sojourn',\n",
       " 'solarflare',\n",
       " 'tarakanovich1.5',\n",
       " 'taySwiftPonyXL',\n",
       " 'teresaxl',\n",
       " 'tp_great_fairy_tpgrtfiry_ponyxl_v2',\n",
       " 'underboobnunILL',\n",
       " 'waveracer illus',\n",
       " 'xenoblade3_sena_ponyXL',\n",
       " 'ysayle'}"
      ]
     },
     "execution_count": 26,
     "metadata": {},
     "output_type": "execute_result"
    }
   ],
   "source": [
    "diff"
   ]
  },
  {
   "cell_type": "code",
   "execution_count": null,
   "metadata": {},
   "outputs": [],
   "source": []
  }
 ],
 "metadata": {
  "kernelspec": {
   "display_name": "python313",
   "language": "python",
   "name": "python3"
  },
  "language_info": {
   "codemirror_mode": {
    "name": "ipython",
    "version": 3
   },
   "file_extension": ".py",
   "mimetype": "text/x-python",
   "name": "python",
   "nbconvert_exporter": "python",
   "pygments_lexer": "ipython3",
   "version": "3.13.2"
  }
 },
 "nbformat": 4,
 "nbformat_minor": 2
}
