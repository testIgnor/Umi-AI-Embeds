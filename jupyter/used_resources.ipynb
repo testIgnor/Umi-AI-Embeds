{
 "cells": [
  {
   "cell_type": "code",
   "execution_count": 1,
   "metadata": {},
   "outputs": [],
   "source": [
    "import glob\n",
    "import re\n",
    "import pathlib\n",
    "import json"
   ]
  },
  {
   "cell_type": "code",
   "execution_count": 12,
   "metadata": {},
   "outputs": [],
   "source": [
    "def read_metadata_from_safetensors(filename):\n",
    "\n",
    "\n",
    "    with open(filename, mode=\"rb\") as file:\n",
    "        metadata_len = file.read(8)\n",
    "        metadata_len = int.from_bytes(metadata_len, \"little\")\n",
    "        json_start = file.read(2)\n",
    "\n",
    "        assert metadata_len > 2 and json_start in (b'{\"', b\"{'\"), f\"{filename} is not a safetensors file\"\n",
    "\n",
    "        res = {}\n",
    "\n",
    "        try:\n",
    "            json_data = json_start + file.read(metadata_len-2)\n",
    "            json_obj = json.loads(json_data)\n",
    "            for k, v in json_obj.get(\"__metadata__\", {}).items():\n",
    "                res[k] = v\n",
    "                if isinstance(v, str) and v[0:1] == '{':\n",
    "                    try:\n",
    "                        res[k] = json.loads(v)\n",
    "                    except Exception:\n",
    "                        pass\n",
    "        except Exception:\n",
    "             Exception(f\"Error reading metadata from file: {filename}\")\n",
    "\n",
    "        return res"
   ]
  },
  {
   "cell_type": "code",
   "execution_count": 2,
   "metadata": {},
   "outputs": [],
   "source": [
    "files = glob.glob('../wildcards/**/*.txt', recursive=True) + glob.glob('../wildcards/**/*.yaml', recursive=True)\n",
    "\n",
    "pattern = re.compile('<lora:(.+?):')"
   ]
  },
  {
   "cell_type": "code",
   "execution_count": 11,
   "metadata": {},
   "outputs": [],
   "source": [
    "matches = []\n",
    "for file in files:\n",
    "    with open(file, 'r') as f:\n",
    "        matches += pattern.findall(f.read())\n",
    "matches = set(matches)"
   ]
  },
  {
   "cell_type": "code",
   "execution_count": null,
   "metadata": {},
   "outputs": [],
   "source": [
    "loras = glob.glob('../../../models/Lora/*.safetensors')\n",
    "\n",
    "ss_names = []\n",
    "\n",
    "lora_dict = {}\n",
    "\n",
    "for lora in loras:\n",
    "    fname = pathlib.Path(lora).stem\n",
    "    try:\n",
    "        ss_name = read_metadata_from_safetensors(lora)['ss_output_name']\n",
    "    except:\n",
    "        ss_name = fname\n",
    "\n",
    "    if ss_name in lora_dict.keys():\n",
    "        lora_dict[ss_name] += [fname]\n",
    "    else:\n",
    "        lora_dict[ss_name] = [fname]\n",
    "    ss_names.append(ss_name)\n",
    "ss_names = set(ss_names)"
   ]
  },
  {
   "cell_type": "code",
   "execution_count": 20,
   "metadata": {},
   "outputs": [
    {
     "data": {
      "text/plain": [
       "{'10_wilykit_il',\n",
       " 'CHARACTER_Machamp',\n",
       " 'CHARACTER_Machoke',\n",
       " 'CorruptPonyXL',\n",
       " 'CrystalMommy',\n",
       " 'Dmon ill-000045',\n",
       " 'Elsa frozen',\n",
       " 'ExpressiveH_Incase_Mixed_Style_v2_Illustrious_XL_by_UOC',\n",
       " 'Garuda',\n",
       " 'HerrscherAGGA2023_Klaxosaur_Princess_Franxx_SDXLPoni_V1',\n",
       " 'PDXL_artist_tags_v2',\n",
       " 'Riley_Andersen_A',\n",
       " 'SerahFarron',\n",
       " 'Serenica',\n",
       " 'Shiva',\n",
       " 'YunaPony',\n",
       " 'arcane_pony_v2-0-2',\n",
       " 'bodypaint_ero',\n",
       " 'dina',\n",
       " 'dva academy illus-000040',\n",
       " 'lugia-05',\n",
       " 'madeline-v1.0',\n",
       " 'parasite_shoots_pussy',\n",
       " 'skinbodysuit e3'}"
      ]
     },
     "execution_count": 20,
     "metadata": {},
     "output_type": "execute_result"
    }
   ],
   "source": [
    "matches.difference(ss_names)"
   ]
  },
  {
   "cell_type": "code",
   "execution_count": null,
   "metadata": {},
   "outputs": [],
   "source": []
  }
 ],
 "metadata": {
  "kernelspec": {
   "display_name": "python313",
   "language": "python",
   "name": "python3"
  },
  "language_info": {
   "codemirror_mode": {
    "name": "ipython",
    "version": 3
   },
   "file_extension": ".py",
   "mimetype": "text/x-python",
   "name": "python",
   "nbconvert_exporter": "python",
   "pygments_lexer": "ipython3",
   "version": "3.13.2"
  }
 },
 "nbformat": 4,
 "nbformat_minor": 2
}
